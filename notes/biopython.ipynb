{
 "cells": [
  {
   "cell_type": "markdown",
   "metadata": {
    "editable": true,
    "slideshow": {
     "slide_type": "slide"
    },
    "tags": []
   },
   "source": [
    "# sequences and biopython\n",
    "## 09/21/2023\n",
    "\n",
    "<a href=\"?print-pdf\">print view</a><br>\n",
    "<a href=\"biopython.ipynb\">notebook</a>"
   ]
  },
  {
   "cell_type": "code",
   "execution_count": 1,
   "metadata": {
    "editable": true,
    "slideshow": {
     "slide_type": "skip"
    },
    "tags": []
   },
   "outputs": [
    {
     "data": {
      "text/html": [
       "<script src=\"https://bits.csb.pitt.edu/preamble.js\"></script>\n"
      ],
      "text/plain": [
       "<IPython.core.display.HTML object>"
      ]
     },
     "metadata": {},
     "output_type": "display_data"
    }
   ],
   "source": [
    "%%html\n",
    "<script src=\"https://bits.csb.pitt.edu/preamble.js\"></script>"
   ]
  },
  {
   "cell_type": "markdown",
   "metadata": {
    "slideshow": {
     "slide_type": "slide"
    }
   },
   "source": [
    "# Sequence data\n",
    "\n",
    "[http://www.ncbi.nlm.nih.gov](http://www.ncbi.nlm.nih.gov)\n",
    "\n",
    "[Example](http://www.ncbi.nlm.nih.gov/gene/5216)"
   ]
  },
  {
   "cell_type": "markdown",
   "metadata": {
    "slideshow": {
     "slide_type": "slide"
    }
   },
   "source": [
    "# FASTA\n",
    "\n",
    "First line is description of sequence and starts with `>`\n",
    "\n",
    "All lines up to the next `>` are part of the same sequence\n",
    "\n",
    "Usually less than 80 characters per line\n",
    "\n",
    "```\n",
    ">gi|568815581:c4949086-4945650 Homo sapiens chromosome 17, GRCh38.p2 Primary Assembly\n",
    "CCCGCAGGGTCCACACGGGTCGGGCCGGGCGCGCTCCCGTGCAGCCGGCTCCGGCCCCGACCGCCCCATG\n",
    "CACTCCCGGCCCCGGCGCAGGCGCAGGCGCGGGCACACGCGCCGCCGCCCGCCGGTCCTTCCCTTCGGCG\n",
    "GAGGTGGGGGAAGGAGGAGTCATCCCGTTTAACCCTGGGCTCCCCGAACTCTCCTTAATTTGCTAAATTT\n",
    "GCAGCTTGCTAATTCCTCCTGCTTTCTCCTTCCTTCCTTCTTCTGGCTCACTCCCTGCCCCGATACCAAA\n",
    "GTCTGGTTTATATTCAGTGCAAATTGGAGCAAACCCTACCCTTCACCTCTCTCCCGCCACCCCCCATCCT\n",
    "TCTGCATTGCTTTCCATCGAACTCTGCAAATTTTGCAATAGGGGGAGGGATTTTTAAAATTGCATTTGCA\n",
    "```"
   ]
  },
  {
   "cell_type": "markdown",
   "metadata": {
    "slideshow": {
     "slide_type": "slide"
    }
   },
   "source": [
    "# Genbank\n",
    "\n",
    "Annotated format.  Starts with `LOCUS` field.  Can have several other annotation (e.g. `KEYWORDS`, `SOURCE`, `REFERENCE`, `FEATURES`).\n",
    "\n",
    "`ORIGIN` record indicates start of sequence\n",
    "\n",
    "'`\\\\`' indicates the end of sequence\n",
    "\n",
    "```\n",
    "LOCUS       CAG28598                 140 aa            linear   PRI 16-OCT-2008\n",
    "DEFINITION  PFN1, partial [Homo sapiens].\n",
    "ACCESSION   CAG28598\n",
    "VERSION     CAG28598.1  GI:47115277\n",
    "DBSOURCE    embl accession CR407670.1\n",
    "KEYWORDS    .\n",
    "SOURCE      Homo sapiens (human)\n",
    "  ORGANISM  Homo sapiens\n",
    "            Eukaryota; Metazoa; Chordata; Craniata; Vertebrata; Euteleostomi;\n",
    "            Mammalia; Eutheria; Euarchontoglires; Primates; Haplorrhini;\n",
    "            Catarrhini; Hominidae; Homo.\n",
    "ORIGIN      \n",
    "        1 magwnayidn lmadgtcqda aivgykdsps vwaavpgktf vnitpaevgv lvgkdrssfy\n",
    "       61 vngltlggqk csvirdsllq dgefsmdlrt kstggaptfn vtvtktdktl vllmgkegvh\n",
    "      121 gglinkkcye mashlrrsqy\n",
    "//\n",
    "```"
   ]
  },
  {
   "cell_type": "markdown",
   "metadata": {
    "slideshow": {
     "slide_type": "slide"
    }
   },
   "source": [
    "# Biopython\n",
    "\n",
    "*Biopython features include parsers for various Bioinformatics file formats (BLAST, Clustalw, FASTA, Genbank,...), access to online services (NCBI, Expasy,...), interfaces to common and not-so-common programs (Clustalw, DSSP, MSMS...), a standard sequence class, various clustering modules, a KD tree data structure etc. and even documentation.*\n",
    "\n",
    "Other modules that might be of interest:\n",
    "\n",
    " *   Pycogent: http://pycogent.org/\n",
    " *   bx-python: http://bitbucket.org/james_taylor/bx-python/wiki/Home\n",
    " *   DendroPy: http://packages.python.org/DendroPy/\n",
    " *   Pygr: http://code.google.com/p/pygr/\n",
    " *   bioservices: https://bioservices.readthedocs.io/en/master/\n",
    " \n",
    "Biopython is **not** for performing sequencing itself (see: https://crc.pitt.edu/training/fall-2021-next-generation-sequencing-workshops)."
   ]
  },
  {
   "cell_type": "markdown",
   "metadata": {
    "collapsed": true,
    "jupyter": {
     "outputs_hidden": true
    },
    "slideshow": {
     "slide_type": "slide"
    }
   },
   "source": [
    "# Sequence Objects"
   ]
  },
  {
   "cell_type": "code",
   "execution_count": 2,
   "metadata": {},
   "outputs": [
    {
     "data": {
      "text/plain": [
       "Seq('GATTACA')"
      ]
     },
     "execution_count": 2,
     "metadata": {},
     "output_type": "execute_result"
    }
   ],
   "source": [
    "from Bio.Seq import Seq # the submodule structure of biopython is a little awkward\n",
    "\n",
    "s = Seq(\"GATTACA\")\n",
    "s"
   ]
  },
  {
   "cell_type": "markdown",
   "metadata": {},
   "source": [
    "Sequences act a lot like strings, but have additional methods.\n",
    "\n",
    "Methods shared with `str`: `count`, `endswith`, `find`, `lower`, `lstrip`, `rfind`, `split`, `startswith`, `strip`,`upper`\n",
    "\n",
    "`Seq` methods:`back_transcribe`, `complement`, `reverse_complement`, `tomutable`, `tostring`, `transcribe`, `translate`, `ungap`"
   ]
  },
  {
   "cell_type": "markdown",
   "metadata": {
    "slideshow": {
     "slide_type": "slide"
    }
   },
   "source": [
    "# Accessing Seq data\n",
    "\n",
    "Sequences act like strings (indexed from 0)"
   ]
  },
  {
   "cell_type": "code",
   "execution_count": 3,
   "metadata": {},
   "outputs": [
    {
     "data": {
      "text/plain": [
       "'G'"
      ]
     },
     "execution_count": 3,
     "metadata": {},
     "output_type": "execute_result"
    }
   ],
   "source": [
    "s[0]"
   ]
  },
  {
   "cell_type": "code",
   "execution_count": 4,
   "metadata": {},
   "outputs": [
    {
     "data": {
      "text/plain": [
       "Seq('TT')"
      ]
     },
     "execution_count": 4,
     "metadata": {},
     "output_type": "execute_result"
    }
   ],
   "source": [
    "s[2:4] #returns sequence"
   ]
  },
  {
   "cell_type": "code",
   "execution_count": 5,
   "metadata": {},
   "outputs": [
    {
     "data": {
      "text/plain": [
       "Seq('gattaca')"
      ]
     },
     "execution_count": 5,
     "metadata": {},
     "output_type": "execute_result"
    }
   ],
   "source": [
    "s.lower()"
   ]
  },
  {
   "cell_type": "code",
   "execution_count": 6,
   "metadata": {},
   "outputs": [
    {
     "data": {
      "text/plain": [
       "Seq('GATTACAGATTACA')"
      ]
     },
     "execution_count": 6,
     "metadata": {},
     "output_type": "execute_result"
    }
   ],
   "source": [
    "s + s"
   ]
  },
  {
   "cell_type": "markdown",
   "metadata": {
    "slideshow": {
     "slide_type": "slide"
    }
   },
   "source": [
    "# The Central Dogma"
   ]
  },
  {
   "cell_type": "markdown",
   "metadata": {},
   "source": [
    "```\n",
    "DNA coding strand (aka Crick strand, strand +1)\t \n",
    "5’\tATGGCCATTGTAATGGGCCGCTGAAAGGGTGCCCGATAG\t3’\n",
    " \t|||||||||||||||||||||||||||||||||||||||\t \n",
    "3’\tTACCGGTAACATTACCCGGCGACTTTCCCACGGGCTATC\t5’\n",
    " \tDNA template strand (aka Watson strand, strand −1)\t \n",
    "                        |\t \n",
    "                    Transcription\t \n",
    "                        ↓\t \n",
    " \n",
    "5’\tAUGGCCAUUGUAAUGGGCCGCUGAAAGGGUGCCCGAUAG\t3’\n",
    " \tSingle stranded messenger RNA\t \n",
    "                        |\t \n",
    "                   Translation\t \n",
    "                        ↓\t \n",
    "                  MAIVMGR*KGAR*\n",
    "        amino acid sequence (w/stop codons)\n",
    " ```"
   ]
  },
  {
   "cell_type": "code",
   "execution_count": 7,
   "metadata": {},
   "outputs": [
    {
     "data": {
      "text/plain": [
       "(Seq('CTAATGTCTAATGTCTAATGT'), Seq('TGTAATCTGTAATCTGTAATC'))"
      ]
     },
     "execution_count": 7,
     "metadata": {},
     "output_type": "execute_result"
    }
   ],
   "source": [
    "dna = Seq('GATTACAGATTACAGATTACA')\n",
    "dna.complement(),dna.reverse_complement()"
   ]
  },
  {
   "cell_type": "markdown",
   "metadata": {
    "slideshow": {
     "slide_type": "slide"
    }
   },
   "source": [
    "# The Central Dogma"
   ]
  },
  {
   "cell_type": "code",
   "execution_count": 8,
   "metadata": {},
   "outputs": [
    {
     "data": {
      "text/plain": [
       "Seq('GATTACAGATTACAGATTACA')"
      ]
     },
     "execution_count": 8,
     "metadata": {},
     "output_type": "execute_result"
    }
   ],
   "source": [
    "dna"
   ]
  },
  {
   "cell_type": "code",
   "execution_count": 9,
   "metadata": {},
   "outputs": [
    {
     "data": {
      "text/plain": [
       "Seq('GAUUACAGAUUACAGAUUACA')"
      ]
     },
     "execution_count": 9,
     "metadata": {},
     "output_type": "execute_result"
    }
   ],
   "source": [
    "rna = dna.transcribe()\n",
    "rna"
   ]
  },
  {
   "cell_type": "code",
   "execution_count": 10,
   "metadata": {},
   "outputs": [
    {
     "data": {
      "text/plain": [
       "Seq('DYRLQIT')"
      ]
     },
     "execution_count": 10,
     "metadata": {},
     "output_type": "execute_result"
    }
   ],
   "source": [
    "protein = rna.translate()\n",
    "protein"
   ]
  },
  {
   "cell_type": "code",
   "execution_count": 11,
   "metadata": {},
   "outputs": [
    {
     "data": {
      "text/plain": [
       "Seq('DYRLQIT')"
      ]
     },
     "execution_count": 11,
     "metadata": {},
     "output_type": "execute_result"
    }
   ],
   "source": [
    "dna.translate() #unlike cells, don't actually need rna"
   ]
  },
  {
   "cell_type": "markdown",
   "metadata": {
    "slideshow": {
     "slide_type": "slide"
    }
   },
   "source": [
    "# Codon Tables\n",
    "\n",
    "By default the standard translation table is used, but others can be provided to the translate method."
   ]
  },
  {
   "cell_type": "code",
   "execution_count": 12,
   "metadata": {
    "slideshow": {
     "slide_type": "-"
    }
   },
   "outputs": [
    {
     "name": "stdout",
     "output_type": "stream",
     "text": [
      "['Alternative Flatworm Mitochondrial', 'Alternative Yeast Nuclear', 'Archaeal', 'Ascidian Mitochondrial', 'Bacterial', 'Balanophoraceae Plastid', 'Blastocrithidia Nuclear', 'Blepharisma Macronuclear', 'Candidate Division SR1', 'Cephalodiscidae Mitochondrial', 'Chlorophycean Mitochondrial', 'Ciliate Nuclear', 'Coelenterate Mitochondrial', 'Condylostoma Nuclear', 'Dasycladacean Nuclear', 'Echinoderm Mitochondrial', 'Euplotid Nuclear', 'Flatworm Mitochondrial', 'Gracilibacteria', 'Hexamita Nuclear', 'Invertebrate Mitochondrial', 'Karyorelict Nuclear', 'Mesodinium Nuclear', 'Mold Mitochondrial', 'Mycoplasma', 'Pachysolen tannophilus Nuclear', 'Peritrich Nuclear', 'Plant Plastid', 'Protozoan Mitochondrial', 'Pterobranchia Mitochondrial', 'SGC0', 'SGC1', 'SGC2', 'SGC3', 'SGC4', 'SGC5', 'SGC8', 'SGC9', 'Scenedesmus obliquus Mitochondrial', 'Spiroplasma', 'Standard', 'Thraustochytrium Mitochondrial', 'Trematode Mitochondrial', 'Vertebrate Mitochondrial', 'Yeast Mitochondrial']\n"
     ]
    }
   ],
   "source": [
    "from Bio.Data import CodonTable\n",
    "print(sorted(CodonTable.unambiguous_dna_by_name.keys()))"
   ]
  },
  {
   "cell_type": "code",
   "execution_count": 13,
   "metadata": {
    "slideshow": {
     "slide_type": "slide"
    }
   },
   "outputs": [
    {
     "name": "stdout",
     "output_type": "stream",
     "text": [
      "Table 1 Standard, SGC0\n",
      "\n",
      "  |  T      |  C      |  A      |  G      |\n",
      "--+---------+---------+---------+---------+--\n",
      "T | TTT F   | TCT S   | TAT Y   | TGT C   | T\n",
      "T | TTC F   | TCC S   | TAC Y   | TGC C   | C\n",
      "T | TTA L   | TCA S   | TAA Stop| TGA Stop| A\n",
      "T | TTG L(s)| TCG S   | TAG Stop| TGG W   | G\n",
      "--+---------+---------+---------+---------+--\n",
      "C | CTT L   | CCT P   | CAT H   | CGT R   | T\n",
      "C | CTC L   | CCC P   | CAC H   | CGC R   | C\n",
      "C | CTA L   | CCA P   | CAA Q   | CGA R   | A\n",
      "C | CTG L(s)| CCG P   | CAG Q   | CGG R   | G\n",
      "--+---------+---------+---------+---------+--\n",
      "A | ATT I   | ACT T   | AAT N   | AGT S   | T\n",
      "A | ATC I   | ACC T   | AAC N   | AGC S   | C\n",
      "A | ATA I   | ACA T   | AAA K   | AGA R   | A\n",
      "A | ATG M(s)| ACG T   | AAG K   | AGG R   | G\n",
      "--+---------+---------+---------+---------+--\n",
      "G | GTT V   | GCT A   | GAT D   | GGT G   | T\n",
      "G | GTC V   | GCC A   | GAC D   | GGC G   | C\n",
      "G | GTA V   | GCA A   | GAA E   | GGA G   | A\n",
      "G | GTG V   | GCG A   | GAG E   | GGG G   | G\n",
      "--+---------+---------+---------+---------+--\n"
     ]
    }
   ],
   "source": [
    "print(CodonTable.unambiguous_dna_by_name['Standard'])"
   ]
  },
  {
   "cell_type": "markdown",
   "metadata": {
    "slideshow": {
     "slide_type": "slide"
    }
   },
   "source": [
    "<img src=\"../files/amino_acids.svg\">"
   ]
  },
  {
   "cell_type": "code",
   "execution_count": 14,
   "metadata": {
    "editable": true,
    "slideshow": {
     "slide_type": ""
    },
    "tags": []
   },
   "outputs": [
    {
     "data": {
      "text/html": [
       "<div id=\"seqtrans\" style=\"width: 500px\"></div>\n",
       "<script>\n",
       "$('head').append('<link rel=\"stylesheet\" href=\"https://bits.csb.pitt.edu/asker.js/themes/asker.default.css\" />');\n",
       "\n",
       "    var divid = '#seqtrans';\n",
       "\tjQuery(divid).asker({\n",
       "\t    id: divid,\n",
       "\t    question: \"What amino acid does the codon <tt>CAT</tt> translate to?\",\n",
       "\t\tanswers: ['H',\"Y\",\"V\",\"A\",\"X\"],\n",
       "        extra: ['Histidine','Tyrosine','Valine','Alanine','Other'],\n",
       "        server: \"https://bits.csb.pitt.edu/asker.js/example/asker.cgi\",\n",
       "\t\tcharter: chartmaker})\n",
       "    \n",
       "$(\".jp-InputArea .o:contains(html)\").closest('.jp-InputArea').hide();\n",
       "\n",
       "\n",
       "</script>\n"
      ],
      "text/plain": [
       "<IPython.core.display.HTML object>"
      ]
     },
     "metadata": {},
     "output_type": "display_data"
    }
   ],
   "source": [
    "%%html\n",
    "<div id=\"seqtrans\" style=\"width: 500px\"></div>\n",
    "<script>\n",
    "$('head').append('<link rel=\"stylesheet\" href=\"https://bits.csb.pitt.edu/asker.js/themes/asker.default.css\" />');\n",
    "\n",
    "    var divid = '#seqtrans';\n",
    "\tjQuery(divid).asker({\n",
    "\t    id: divid,\n",
    "\t    question: \"What amino acid does the codon <tt>CAT</tt> translate to?\",\n",
    "\t\tanswers: ['H',\"Y\",\"V\",\"A\",\"X\"],\n",
    "        extra: ['Histidine','Tyrosine','Valine','Alanine','Other'],\n",
    "        server: \"https://bits.csb.pitt.edu/asker.js/example/asker.cgi\",\n",
    "\t\tcharter: chartmaker})\n",
    "    \n",
    "$(\".jp-InputArea .o:contains(html)\").closest('.jp-InputArea').hide();\n",
    "\n",
    "\n",
    "</script>"
   ]
  },
  {
   "cell_type": "markdown",
   "metadata": {
    "slideshow": {
     "slide_type": "slide"
    }
   },
   "source": [
    "# SeqRecord\n",
    "\n",
    "Sequence data is read/written as `SeqRecord` objects.\n",
    "\n",
    "These objects store additional information about the sequence (name, id, description, features)\n",
    "\n",
    "`SeqIO` reads sequence records: \n",
    "  * must specify format\n",
    "  * `read` to read a file with a single record\n",
    "  * `parse` to iterate over file with mulitple records"
   ]
  },
  {
   "cell_type": "code",
   "execution_count": 15,
   "metadata": {
    "slideshow": {
     "slide_type": "slide"
    }
   },
   "outputs": [
    {
     "data": {
      "text/plain": [
       "SeqRecord(seq=Seq('GATGGGATTGGGGTTTTCCCCTCCCATGTGCTCAAGACTGGCGCTAAAAGTTTT...GTG'), id='NG_017013.2', name='NG_017013', description='Homo sapiens tumor protein p53 (TP53), RefSeqGene (LRG_321) on chromosome 17', dbxrefs=[])"
      ]
     },
     "execution_count": 15,
     "metadata": {},
     "output_type": "execute_result"
    }
   ],
   "source": [
    "from Bio.SeqRecord import SeqRecord\n",
    "from Bio import SeqIO\n",
    "seq = SeqIO.read('../files/p53.gb','genbank')\n",
    "seq"
   ]
  },
  {
   "cell_type": "code",
   "execution_count": 16,
   "metadata": {},
   "outputs": [],
   "source": [
    "seqs = []\n",
    "# https://MSCBIO2025.github.io/files/hydra.fasta\n",
    "for s in SeqIO.parse('../files/hydra.fasta','fasta'):\n",
    "    seqs.append(s)"
   ]
  },
  {
   "cell_type": "code",
   "execution_count": 17,
   "metadata": {},
   "outputs": [
    {
     "data": {
      "text/plain": [
       "40"
      ]
     },
     "execution_count": 17,
     "metadata": {},
     "output_type": "execute_result"
    }
   ],
   "source": [
    "len(seqs)"
   ]
  },
  {
   "cell_type": "markdown",
   "metadata": {
    "slideshow": {
     "slide_type": "slide"
    }
   },
   "source": [
    "# Fetching sequences from the Internet\n",
    "\n",
    "Biopython provides and interface to the [NCBI \"Entrez\" search engine](http://www.ncbi.nlm.nih.gov/sites/gquery)\n",
    "\n",
    "The results of internet queries are returned as file-like objects."
   ]
  },
  {
   "cell_type": "code",
   "execution_count": 18,
   "metadata": {},
   "outputs": [
    {
     "data": {
      "text/plain": [
       "{'DbList': ['pubmed', 'protein', 'nuccore', 'ipg', 'nucleotide', 'structure', 'genome', 'annotinfo', 'assembly', 'bioproject', 'biosample', 'blastdbinfo', 'books', 'cdd', 'clinvar', 'gap', 'gapplus', 'grasp', 'dbvar', 'gene', 'gds', 'geoprofiles', 'homologene', 'medgen', 'mesh', 'nlmcatalog', 'omim', 'orgtrack', 'pmc', 'popset', 'proteinclusters', 'pcassay', 'protfam', 'pccompound', 'pcsubstance', 'seqannot', 'snp', 'sra', 'taxonomy', 'biocollections', 'gtr']}"
      ]
     },
     "execution_count": 18,
     "metadata": {},
     "output_type": "execute_result"
    }
   ],
   "source": [
    "from Bio import Entrez\n",
    "Entrez.email = \"jpbarton@pitt.edu\" # biopython forces you to provide your email\n",
    "res = Entrez.read(Entrez.einfo())  # the names of all available databases\n",
    "res"
   ]
  },
  {
   "cell_type": "code",
   "execution_count": 19,
   "metadata": {},
   "outputs": [
    {
     "name": "stdout",
     "output_type": "stream",
     "text": [
      "['annotinfo', 'assembly', 'biocollections', 'bioproject', 'biosample', 'blastdbinfo', 'books', 'cdd', 'clinvar', 'dbvar', 'gap', 'gapplus', 'gds', 'gene', 'genome', 'geoprofiles', 'grasp', 'gtr', 'homologene', 'ipg', 'medgen', 'mesh', 'nlmcatalog', 'nuccore', 'nucleotide', 'omim', 'orgtrack', 'pcassay', 'pccompound', 'pcsubstance', 'pmc', 'popset', 'protein', 'proteinclusters', 'protfam', 'pubmed', 'seqannot', 'snp', 'sra', 'structure', 'taxonomy']\n"
     ]
    }
   ],
   "source": [
    "print(sorted(res['DbList']))"
   ]
  },
  {
   "cell_type": "markdown",
   "metadata": {
    "slideshow": {
     "slide_type": "slide"
    }
   },
   "source": [
    "# ESearch\n",
    "\n",
    "You can search any database for a given term and it will return the ids of all the relevant records."
   ]
  },
  {
   "cell_type": "code",
   "execution_count": 20,
   "metadata": {},
   "outputs": [
    {
     "name": "stdout",
     "output_type": "stream",
     "text": [
      "{'Count': '16943', 'RetMax': '20', 'RetStart': '0', 'IdList': ['2577144630', '2577144628', '2577144626', '2577144624', '2577144622', '2577144620', '2577144618', '2577112865', '2577109742', '2577244898', '2577244896', '2577244894', '2577238979', '2577226876', '2577220539', '2577220537', '2577179306', '2577179304', '2577176327', '2577164793'], 'TranslationSet': [], 'TranslationStack': [{'Term': 'tp53[All Fields]', 'Field': 'All Fields', 'Count': '16943', 'Explode': 'N'}, 'GROUP'], 'QueryTranslation': 'tp53[All Fields]'}\n"
     ]
    }
   ],
   "source": [
    "result = Entrez.esearch(db='nucleotide', term='tp53')  # the result is a file-like object of the raw xml data\n",
    "records = Entrez.read(result) # put into a more palatable form (dictionary)\n",
    "print(records)"
   ]
  },
  {
   "cell_type": "markdown",
   "metadata": {},
   "source": [
    "There were <strike>2923</strike> <strike>7616</strike> <strike>8238</strike> <strike>10725</strike> <strike>11850</strike> <strike>12751</strike> <strike>13952</strike> 16943 hits, but by default only 20 are returned.  We can change this ([and other parameters](http://www.ncbi.nlm.nih.gov/books/NBK25499/#chapter4.ESearch)) by changing our search terms."
   ]
  },
  {
   "cell_type": "code",
   "execution_count": 21,
   "metadata": {
    "slideshow": {
     "slide_type": "slide"
    }
   },
   "outputs": [
    {
     "data": {
      "text/plain": [
       "{'Count': '16943', 'RetMax': '50', 'RetStart': '0', 'IdList': ['2577144630', '2577144628', '2577144626', '2577144624', '2577144622', '2577144620', '2577144618', '2577112865', '2577109742', '2577244898', '2577244896', '2577244894', '2577238979', '2577226876', '2577220539', '2577220537', '2577179306', '2577179304', '2577176327', '2577164793', '2577072812', '2577072810', '2577072808', '2573824467', '2573824466', '2573824464', '2573824459', '2573824458', '2573824443', '2573824426', '2573824424', '2573824420', '2565314522', '1777425450', '2575469311', '2575468137', '2575444212', '2575444210', '2575439650', '2575423666', '2575423664', '2575402644', '2575402643', '2575402642', '2575402640', '2575402638', '2575402636', '2575387369', '2575042299', '2575042114'], 'TranslationSet': [], 'TranslationStack': [{'Term': 'tp53[All Fields]', 'Field': 'All Fields', 'Count': '16943', 'Explode': 'N'}, 'GROUP'], 'QueryTranslation': 'tp53[All Fields]'}"
      ]
     },
     "execution_count": 21,
     "metadata": {},
     "output_type": "execute_result"
    }
   ],
   "source": [
    "records = Entrez.read(Entrez.esearch(db='nucleotide', term='tp53', retmax=50))\n",
    "records"
   ]
  },
  {
   "cell_type": "markdown",
   "metadata": {
    "slideshow": {
     "slide_type": "slide"
    }
   },
   "source": [
    "# EFetch\n",
    "\n",
    "To get the full record for a given id, use `efetch`.  \n",
    "\n",
    "Must provide `rettype`  ([available options](http://www.ncbi.nlm.nih.gov/books/NBK25499/table/chapter4.T._valid_values_of__retmode_and/?report=objectonly) include fasta and gb)\n",
    "\n",
    "`retmode` can be text or xml."
   ]
  },
  {
   "cell_type": "code",
   "execution_count": 22,
   "metadata": {},
   "outputs": [],
   "source": [
    "#fetch the genbank file for the first id from our search\n",
    "result = Entrez.efetch(db=\"nucleotide\",id=records['IdList'][0],rettype=\"gb\",retmode='text')\n",
    "#parse into a seqrecord\n",
    "p53 = SeqIO.read(result,'gb')"
   ]
  },
  {
   "cell_type": "code",
   "execution_count": 23,
   "metadata": {},
   "outputs": [
    {
     "data": {
      "text/plain": [
       "<_io.TextIOWrapper encoding='UTF-8'>"
      ]
     },
     "execution_count": 23,
     "metadata": {},
     "output_type": "execute_result"
    }
   ],
   "source": [
    "result"
   ]
  },
  {
   "cell_type": "code",
   "execution_count": 24,
   "metadata": {},
   "outputs": [
    {
     "data": {
      "text/plain": [
       "SeqRecord(seq=Seq('ATGCAAAGGCACCGTCAAGTGACACTCAAGAATCCCACTCACACCCCATCATCT...TTT'), id='XM_059515177.1', name='XM_059515177', description='PREDICTED: Carassius carassius TP53-binding protein 1-like (LOC132108432), transcript variant X7, mRNA', dbxrefs=['BioProject:PRJNA1013068'])"
      ]
     },
     "execution_count": 24,
     "metadata": {},
     "output_type": "execute_result"
    }
   ],
   "source": [
    "p53"
   ]
  },
  {
   "cell_type": "markdown",
   "metadata": {
    "slideshow": {
     "slide_type": "slide"
    }
   },
   "source": [
    "# Features\n",
    "\n",
    "Genbank files are typically annotated with features, which refer to portions of the full sequence\n",
    "\n",
    "`SeqRecord` objects track these features and you can extract the corresponding subsequence\n",
    "\n",
    "*CDS* - coding sequence"
   ]
  },
  {
   "cell_type": "code",
   "execution_count": 25,
   "metadata": {},
   "outputs": [
    {
     "data": {
      "text/plain": [
       "[SeqFeature(SimpleLocation(ExactPosition(0), ExactPosition(5405), strand=1), type='source', qualifiers=...),\n",
       " SeqFeature(SimpleLocation(ExactPosition(0), ExactPosition(5405), strand=1), type='gene', qualifiers=...),\n",
       " SeqFeature(SimpleLocation(ExactPosition(175), ExactPosition(5311), strand=1), type='CDS', qualifiers=...),\n",
       " SeqFeature(SimpleLocation(ExactPosition(5404), ExactPosition(5405), strand=1), type='polyA_site', qualifiers=...)]"
      ]
     },
     "execution_count": 25,
     "metadata": {},
     "output_type": "execute_result"
    }
   ],
   "source": [
    "p53.features"
   ]
  },
  {
   "cell_type": "markdown",
   "metadata": {
    "slideshow": {
     "slide_type": "slide"
    }
   },
   "source": [
    "# Extracting subsequences"
   ]
  },
  {
   "cell_type": "code",
   "execution_count": 26,
   "metadata": {},
   "outputs": [
    {
     "name": "stdout",
     "output_type": "stream",
     "text": [
      "type: CDS\n",
      "location: [175:5311](+)\n",
      "qualifiers:\n",
      "    Key: codon_start, Value: ['1']\n",
      "    Key: db_xref, Value: ['GeneID:132108432']\n",
      "    Key: gene, Value: ['LOC132108432']\n",
      "    Key: product, Value: ['TP53-binding protein 1-like isoform X6']\n",
      "    Key: protein_id, Value: ['XP_059371160.1']\n",
      "    Key: translation, Value: ['MDPGESDLDSSFPQTENPCLIVEDSQPDSVALEDDPDSSYCALLARRLSNLQPTSQSPVLEIISSPTKSRCLQKDSQIDKSDSTACSDNLQSNLGSAATEHSQVFEVHSYPISKRSVTEYMESEANSTTHDETSQFGLLELSESQGVFEEDKPDGAPANQTDSQCGLKSSERTPSNQDGNSTGSEVSSSCPSKPQDEYGRKLSIQTILHSQLTDSQEDEDDVLVSSQDDMFENERNGTKADSSVSEKEQQPASTPAHSLRLLHLSGQGTLVQESLSQQSVDFVAATQDNLSQTPYIVQNSPTEKEQNYNEAAESPMDTSAPAEDQPPGREEEPMNMDPCPKPQPTASTPVSQNSSGFVLDKSLSVPSQPEFSHDVFISTPSLEHGNNSQGTESSKKLPQQNNPSASPNQTGPADKLKKSSSSHSQPSGVAECFQLELSSENNSFAQKTQLFVVEEDSQATQIMEEERTVGADKSNSSTKNHSQNADKNRMDPEPVKTSNSQSLSRTPDSNITSALTGKAEDCEPSQKISQVVIGNQNISASLSATTSQLSVAADCVSDPPNAPQTSKATVAECSNASPSTDRPVTPVPVPQQSLSQSVLTASSQKNTEKEKEHVIQSQRLSQPMTQSHSVVTDSVRNAEEEERIDEGEIQREGTGDDTGIKLGLSESQLLSPEPMEKEEEEEEEKETSQCEPSRADHSSSKEESFSVMVLEESQKVSQEKVKDERSHPFISSSQPVKGSVQDKREATAKISGSQPMGSTEVSPLQLERTKSQSTQPSDTGQHKKTSDNAANKSLSDSSGELPFHFTLPKEGELIRPAVSATPPQISQLKQAPRHSTPIEPSEADVTRETTMGASEISVEESREGEEPAAVEQDGKLSLRMKLVTPVEEGSSGSEHFSLQKPPLTNEEGSVSKATTVAMDVTSPSVFSRVRDAHRQVQVEDDAEFSDPPLRQASQLFSPTKTNDSGLSPNWPKETAVGRASGQVTEAVPLHPAGMEANPQPLVSGLSTPAREQEVLITSDKPRTAVRQRAVSQQTSVDISSTTSPPSKRAVSQQTSFDRSGPCNLSGRGEPSTPTRTHPGPSLRRHVRTIQEVRTTVTRIITDVYYEDGREVDRKVAHESEEPVVDRCVVDNDISPSRTGSSMTSGDLADISSLSSKAQSHHGSSGTSSGGLGPIRMPDFLMPPSRGAKFGRGGRTGQRGGAHVQGASSSEEEHFAQRHVQAPGSPVEPSATGHFDSLNTTIPDIITGSSSFVGLRVLAKWSSNSYFYSGSITRDLGENRFRLLFDDNQECEVQGKDILLCDPIPLETEVTALTEEEYFNIGVVKGHKTQGSEFLYCVEKAGQSNWYSRTSVILSIEQGNRLREQYGLGPYEPSTPQTMASDISLDNLVEGKRRCRGNTTGAGTPTRSSSNSPRNPGPSGKRKLISGTEDERSPAKRGRRGGGARVGQRIAACNTSGSGADLPPDPNDLVATHGPLPENSSLFMGFVFMLTASSENERDSNHQPSDEDEEYVQRAPYNKHYTVRQLEAGGGMILLDFNEEQCKAAYQSLLIADQHCRTRKYLLCVAGGVPCVSQIWVRDCCQEKKLVNYRNYLLPAGLGPEGRIVEWHPRCNPFKALKVVLISEDRVDLWTSLLSMGGAAKVHHHKENEDLSDIPNMKFDVAVTSSVCPSEDLKQVALDMPVVSLEWLIQSSICGKCLSYDSNSEFCHNPST']\n",
      "\n"
     ]
    }
   ],
   "source": [
    "cdsfeature = p53.features[2]\n",
    "print(cdsfeature)"
   ]
  },
  {
   "cell_type": "markdown",
   "metadata": {
    "slideshow": {
     "slide_type": "slide"
    }
   },
   "source": [
    "The subsequence the feature refers to can be extracted from the original full sequence using the feature."
   ]
  },
  {
   "cell_type": "code",
   "execution_count": 27,
   "metadata": {
    "slideshow": {
     "slide_type": "-"
    }
   },
   "outputs": [
    {
     "data": {
      "text/plain": [
       "SeqRecord(seq=Seq('ATGGATCCTGGCGAGAGTGATCTTGATTCCAGTTTTCCTCAGACAGAAAACCCT...TAA'), id='XM_059515177.1', name='XM_059515177', description='PREDICTED: Carassius carassius TP53-binding protein 1-like (LOC132108432), transcript variant X7, mRNA', dbxrefs=[])"
      ]
     },
     "execution_count": 27,
     "metadata": {},
     "output_type": "execute_result"
    }
   ],
   "source": [
    "coding = cdsfeature.extract(p53) #pass the full record (p53) to the feature\n",
    "coding"
   ]
  },
  {
   "cell_type": "markdown",
   "metadata": {
    "slideshow": {
     "slide_type": "slide"
    }
   },
   "source": [
    "# BLAST!\n",
    "\n",
    "Biopython let's you use [NCBI's BLAST](http://blast.ncbi.nlm.nih.gov/Blast.cgi) to search for similar sequences with `qblast` which has three required arguments:\n",
    " * **program**: blastn, blastp, blastx, tblastn, tblastx\n",
    " * **database**: see website\n",
    " * **sequence**: a sequence object"
   ]
  },
  {
   "cell_type": "code",
   "execution_count": 28,
   "metadata": {},
   "outputs": [],
   "source": [
    "from Bio.Blast import NCBIWWW\n",
    "result = NCBIWWW.qblast(\"blastn\",\"nt\",coding.seq,hitlist_size=250)\n",
    "#result is a file-like object with xml in it - it can take a while to get results"
   ]
  },
  {
   "cell_type": "code",
   "execution_count": 29,
   "metadata": {},
   "outputs": [],
   "source": [
    "from Bio.Blast import NCBIXML #for parsing xmls\n",
    "blast_records = NCBIXML.read(result)"
   ]
  },
  {
   "cell_type": "code",
   "execution_count": 30,
   "metadata": {},
   "outputs": [
    {
     "name": "stdout",
     "output_type": "stream",
     "text": [
      "250 250\n"
     ]
    }
   ],
   "source": [
    "print(len(blast_records.alignments),len(blast_records.descriptions))"
   ]
  },
  {
   "cell_type": "code",
   "execution_count": 31,
   "metadata": {
    "slideshow": {
     "slide_type": "slide"
    }
   },
   "outputs": [
    {
     "name": "stdout",
     "output_type": "stream",
     "text": [
      "1\n"
     ]
    }
   ],
   "source": [
    "alignment = blast_records.alignments[0]\n",
    "print(len(alignment.hsps))"
   ]
  },
  {
   "cell_type": "code",
   "execution_count": 32,
   "metadata": {},
   "outputs": [
    {
     "name": "stdout",
     "output_type": "stream",
     "text": [
      "****Alignment****\n",
      "sequence: gi|2396875048|ref|XM_052603262.1| PREDICTED: Carassius gibelio TP53-binding protein 1 (LOC128017757), transcript variant X7, mRNA\n",
      "length: 5411\n",
      "e value: 0.0\n",
      "ATGGATCCTGGCGAGAGTGATCTTGATTCCAGTTTTCCTCAGACAGAAAACCCTTGCCTCATAGTAGAGGACTCG...\n",
      "||||||||||||||||||||||||||||||||||||||||||||||||||||| |||||||||||||||||||||...\n",
      "ATGGATCCTGGCGAGAGTGATCTTGATTCCAGTTTTCCTCAGACAGAAAACCCCTGCCTCATAGTAGAGGACTCG...\n"
     ]
    }
   ],
   "source": [
    "hsp = alignment.hsps[0] # high scoring segment pairs\n",
    "print('****Alignment****')\n",
    "print('sequence:', alignment.title)\n",
    "print('length:', alignment.length)\n",
    "print('e value:', hsp.expect)\n",
    "print(hsp.query[0:75] + '...')  # what we searched with\n",
    "print(hsp.match[0:75] + '...')\n",
    "print(hsp.sbjct[0:75] + '...')  # what we matched to"
   ]
  },
  {
   "cell_type": "code",
   "execution_count": 33,
   "metadata": {
    "slideshow": {
     "slide_type": "slide"
    }
   },
   "outputs": [
    {
     "name": "stdout",
     "output_type": "stream",
     "text": [
      "****Alignment****\n",
      "sequence: gi|2108520502|ref|XM_044175193.1| PREDICTED: Siniperca chuatsi tumor protein p53 binding protein, 1 (tp53bp1), transcript variant X4, mRNA\n",
      "length: 7668\n",
      "e value: 1.50937e-159\n",
      "AGCAGTTTCGTTGGGTTGCGTGTGCTGGCCAAGTGGTCATCCAACTCGTATTTCTATTCTGGGAGTATCACCCGA...\n",
      "||||| ||||| ||  |||| ||| ||||||||||||| |||||    || ||||| || ||  | |||| |  |...\n",
      "AGCAGCTTCGTCGGCCTGCGGGTGGTGGCCAAGTGGTCGTCCAATGGCTACTTCTACTCAGGCCGCATCATCAAA...\n"
     ]
    }
   ],
   "source": [
    "alignment = blast_records.alignments[-1] # get last alignment\n",
    "hsp = alignment.hsps[0]\n",
    "print('****Alignment****')\n",
    "print('sequence:', alignment.title)\n",
    "print('length:', alignment.length)\n",
    "print('e value:', hsp.expect)\n",
    "print(hsp.query[0:75] + '...')  # what we searched with\n",
    "print(hsp.match[0:75] + '...')\n",
    "print(hsp.sbjct[0:75] + '...')  # what we matched to"
   ]
  },
  {
   "cell_type": "markdown",
   "metadata": {
    "slideshow": {
     "slide_type": "slide"
    }
   },
   "source": [
    "# Creating alignments\n",
    "\n",
    "Biopython uses `clustal` to perform multiple alignments\n",
    "\n",
    "The interface is very simple - you construct the `clustal` commandline and must read the result files"
   ]
  },
  {
   "cell_type": "code",
   "execution_count": 34,
   "metadata": {},
   "outputs": [],
   "source": [
    "from Bio.Align.Applications import ClustalwCommandline\n",
    "cline = ClustalwCommandline('clustalw', infile='../files/hydra.fasta',outfile='alignment.aln')"
   ]
  },
  {
   "cell_type": "code",
   "execution_count": 35,
   "metadata": {},
   "outputs": [
    {
     "name": "stdout",
     "output_type": "stream",
     "text": [
      "clustalw -infile=../files/hydra.fasta -outfile=alignment.aln\n"
     ]
    }
   ],
   "source": [
    "print(cline)"
   ]
  },
  {
   "cell_type": "code",
   "execution_count": null,
   "metadata": {},
   "outputs": [],
   "source": [
    "output = cline() #this calls the above, may take a while # If it doesn't work, sudo apt install clustalw"
   ]
  },
  {
   "cell_type": "code",
   "execution_count": 36,
   "metadata": {},
   "outputs": [
    {
     "name": "stdout",
     "output_type": "stream",
     "text": [
      "CLUSTAL O(1.2.4) multiple sequence alignment\n",
      "\n",
      "\n",
      "gi|225423270|gb|ACN91141.1|/1-      MKLVIVIPNDENLLNIAILCLSCYLNYVSCLSLTSPAIIEKVVGRSVTITYVTDFND---\n",
      "gi|302171756|gb|ADK97779.1|/1-      ------------MLNIAILCLSCYINYVSCVSLTSPAIIEEVVGRSVTITYVTDFAN---\n",
      "gi|225423288|gb|ACN91150.1|/1-      ------------MLNVVILCLSCYINYVSCLSLTSPAIIEEVVGRSVTITYVTDFAD---\n",
      "gi|225423272|gb|ACN91142.1|/1-      ------------MLNIAILLLSCYINYVSSLSLTSPAIIEEVVNRSVTITYVTDADE---\n",
      "gi|302171774|gb|ADK97788.1|/1-      ------------MLNIAILCLSCYINYVSCLSLTSSAIIEEVVNRSVTITYVTDAAD---\n",
      "gi|225423244|gb|ACN91128.1|/1-      ------------MLNIAILCLSCYINYVSCLSLTSSAIIEEVVNRSVTITYVTDAAD---\n",
      "gi|302171750|gb|ADK97776.1|/1-      ------------MLNIAILSLSCYINYVSCLSLTSPAIIEEVVGRSVTITYVTDVADVAD\n"
     ]
    }
   ],
   "source": [
    "!head alignment.aln"
   ]
  },
  {
   "cell_type": "markdown",
   "metadata": {
    "slideshow": {
     "slide_type": "slide"
    }
   },
   "source": [
    "# Alignments\n",
    "\n",
    "`AlignIO` is used to read alignment files (must provide format)"
   ]
  },
  {
   "cell_type": "code",
   "execution_count": 37,
   "metadata": {},
   "outputs": [],
   "source": [
    "from Bio import AlignIO\n",
    "align = AlignIO.read('alignment.aln','clustal')"
   ]
  },
  {
   "cell_type": "code",
   "execution_count": 38,
   "metadata": {},
   "outputs": [
    {
     "data": {
      "text/plain": [
       "<<class 'Bio.Align.MultipleSeqAlignment'> instance (40 records of length 691) at 10df0b940>"
      ]
     },
     "execution_count": 38,
     "metadata": {},
     "output_type": "execute_result"
    }
   ],
   "source": [
    "align"
   ]
  },
  {
   "cell_type": "code",
   "execution_count": 39,
   "metadata": {},
   "outputs": [
    {
     "name": "stdout",
     "output_type": "stream",
     "text": [
      "Alignment with 40 rows and 691 columns\n",
      "MKLVIVIPNDENLLNIAILCLSCYLNYVSCLSLTSPAIIEKVVG...QKK gi|225423270|gb|ACN91141.1|/1-\n",
      "------------MLNIAILCLSCYINYVSCVSLTSPAIIEEVVG...QKK gi|302171756|gb|ADK97779.1|/1-\n",
      "------------MLNVVILCLSCYINYVSCLSLTSPAIIEEVVG...QKK gi|225423288|gb|ACN91150.1|/1-\n",
      "------------MLNIAILLLSCYINYVSSLSLTSPAIIEEVVN...QKK gi|225423272|gb|ACN91142.1|/1-\n",
      "------------MLNIAILCLSCYINYVSCLSLTSSAIIEEVVN...QKK gi|302171774|gb|ADK97788.1|/1-\n",
      "------------MLNIAILCLSCYINYVSCLSLTSSAIIEEVVN...QKK gi|225423244|gb|ACN91128.1|/1-\n",
      "------------MLNIAILSLSCYINYVSCLSLTSPAIIEEVVG...QKK gi|302171750|gb|ADK97776.1|/1-\n",
      "------------MLNIAILCLSCYINYVSCVSVTSPPIIEEVVG...QKK gi|302171748|gb|ADK97775.1|/1-\n",
      "------------MLNIAILCLSCYINYVSCVSVTSPPIIEEVVG...QKK gi|302171766|gb|ADK97784.1|/1-\n",
      "------------MLNIAILCLSCYINYVSCVSVTSPPIIEEVVG...QKK gi|225423256|gb|ACN91134.1|/1-\n",
      "------------MLNIAILCLSCYINYVSCLSVTSPAIIEEVVG...QKK gi|225423294|gb|ACN91153.1|/1-\n",
      "------------MLNIAILCLSCYINYVSCLSLTSSAIIEEVVG...QKK gi|302171772|gb|ADK97787.1|/1-\n",
      "------------MLNIAILSLSCYINYVSCLSLTSPAIIEEVVG...QKK gi|225423262|gb|ACN91137.1|/1-\n",
      "------------MLNIAILCLSCYINYVSCLSLTSPAIIEEVVG...QKK gi|164609123|gb|ABY62783.1|/1-\n",
      "------------------------------LSLTSPAIIEEVVG...--- model1_F.pdb\n",
      "------------MLNIAILSLSCYINYVSCLSLTAPAIIEEVVG...QKK gi|302171746|gb|ADK97774.1|/1-\n",
      "------------MLNIAILSLSCYINYVSCLSLTSPAIIEEVVG...QKK gi|302171780|gb|ADK97791.1|/1-\n",
      "------------MLNIAILCLSYYVNYVSCLSLTSPAIIEEVVG...QKK gi|302171742|gb|ADK97772.1|/1-\n",
      "...\n",
      "------------MLNIAILLLSCYINYVSSLSLTSPAIIEEVVN...QKK gi|225423258|gb|ACN91135.1|/1-\n"
     ]
    }
   ],
   "source": [
    "print(align)"
   ]
  },
  {
   "cell_type": "markdown",
   "metadata": {
    "slideshow": {
     "slide_type": "slide"
    }
   },
   "source": [
    "# Slicing Alignments\n",
    "\n",
    "Alignments are sliced just like `numpy` arrays"
   ]
  },
  {
   "cell_type": "code",
   "execution_count": 40,
   "metadata": {},
   "outputs": [
    {
     "data": {
      "text/plain": [
       "SeqRecord(seq=Seq('MKLVIVIPNDENLLNIAILCLSCYLNYVSCLSLTSPAIIEKVVGRSVTITYVTD...QKK'), id='gi|225423270|gb|ACN91141.1|/1-', name='<unknown name>', description='gi|225423270|gb|ACN91141.1|/1-', dbxrefs=[])"
      ]
     },
     "execution_count": 40,
     "metadata": {},
     "output_type": "execute_result"
    }
   ],
   "source": [
    "align[0] #first row"
   ]
  },
  {
   "cell_type": "code",
   "execution_count": 41,
   "metadata": {},
   "outputs": [
    {
     "data": {
      "text/plain": [
       "'M---------------------------M-----------'"
      ]
     },
     "execution_count": 41,
     "metadata": {},
     "output_type": "execute_result"
    }
   ],
   "source": [
    "align[:,0] #first column"
   ]
  },
  {
   "cell_type": "code",
   "execution_count": 42,
   "metadata": {},
   "outputs": [
    {
     "name": "stdout",
     "output_type": "stream",
     "text": [
      "Alignment with 40 rows and 40 columns\n",
      "MKLVIVIPNDENLLNIAILCLSCYLNYVSCLSLTSPAIIE gi|225423270|gb|ACN91141.1|/1-\n",
      "------------MLNIAILCLSCYINYVSCVSLTSPAIIE gi|302171756|gb|ADK97779.1|/1-\n",
      "------------MLNVVILCLSCYINYVSCLSLTSPAIIE gi|225423288|gb|ACN91150.1|/1-\n",
      "------------MLNIAILLLSCYINYVSSLSLTSPAIIE gi|225423272|gb|ACN91142.1|/1-\n",
      "------------MLNIAILCLSCYINYVSCLSLTSSAIIE gi|302171774|gb|ADK97788.1|/1-\n",
      "------------MLNIAILCLSCYINYVSCLSLTSSAIIE gi|225423244|gb|ACN91128.1|/1-\n",
      "------------MLNIAILSLSCYINYVSCLSLTSPAIIE gi|302171750|gb|ADK97776.1|/1-\n",
      "------------MLNIAILCLSCYINYVSCVSVTSPPIIE gi|302171748|gb|ADK97775.1|/1-\n",
      "------------MLNIAILCLSCYINYVSCVSVTSPPIIE gi|302171766|gb|ADK97784.1|/1-\n",
      "------------MLNIAILCLSCYINYVSCVSVTSPPIIE gi|225423256|gb|ACN91134.1|/1-\n",
      "------------MLNIAILCLSCYINYVSCLSVTSPAIIE gi|225423294|gb|ACN91153.1|/1-\n",
      "------------MLNIAILCLSCYINYVSCLSLTSSAIIE gi|302171772|gb|ADK97787.1|/1-\n",
      "------------MLNIAILSLSCYINYVSCLSLTSPAIIE gi|225423262|gb|ACN91137.1|/1-\n",
      "------------MLNIAILCLSCYINYVSCLSLTSPAIIE gi|164609123|gb|ABY62783.1|/1-\n",
      "------------------------------LSLTSPAIIE model1_F.pdb\n",
      "------------MLNIAILSLSCYINYVSCLSLTAPAIIE gi|302171746|gb|ADK97774.1|/1-\n",
      "------------MLNIAILSLSCYINYVSCLSLTSPAIIE gi|302171780|gb|ADK97791.1|/1-\n",
      "------------MLNIAILCLSYYVNYVSCLSLTSPAIIE gi|302171742|gb|ADK97772.1|/1-\n",
      "...\n",
      "------------MLNIAILLLSCYINYVSSLSLTSPAIIE gi|225423258|gb|ACN91135.1|/1-\n"
     ]
    }
   ],
   "source": [
    "print(align[:,0:40])"
   ]
  },
  {
   "cell_type": "markdown",
   "metadata": {
    "slideshow": {
     "slide_type": "slide"
    }
   },
   "source": [
    "# And now for a brief foray into marine microbiology...\n",
    "\n",
    "https://MSCBIO2025.github.io/files/hydra.fasta"
   ]
  },
  {
   "cell_type": "markdown",
   "metadata": {
    "slideshow": {
     "slide_type": "slide"
    }
   },
   "source": [
    "<img src=\"./imgs/sequence_project/sequence_project.001.png\" width=\"100%\">"
   ]
  },
  {
   "cell_type": "markdown",
   "metadata": {
    "slideshow": {
     "slide_type": "slide"
    }
   },
   "source": [
    "<img src=\"./imgs/sequence_project/sequence_project.002.png\" width=\"100%\">"
   ]
  },
  {
   "cell_type": "markdown",
   "metadata": {
    "slideshow": {
     "slide_type": "slide"
    }
   },
   "source": [
    "<img src=\"./imgs/sequence_project/sequence_project.003.png\" width=\"100%\">"
   ]
  },
  {
   "cell_type": "markdown",
   "metadata": {
    "slideshow": {
     "slide_type": "slide"
    }
   },
   "source": [
    "<img src=\"./imgs/sequence_project/sequence_project.004.png\" width=\"100%\">"
   ]
  },
  {
   "cell_type": "markdown",
   "metadata": {
    "slideshow": {
     "slide_type": "slide"
    }
   },
   "source": [
    "<img src=\"./imgs/sequence_project/sequence_project.005.png\" width=\"100%\">"
   ]
  },
  {
   "cell_type": "markdown",
   "metadata": {
    "slideshow": {
     "slide_type": "slide"
    }
   },
   "source": [
    "<img src=\"./imgs/sequence_project/sequence_project.006.png\" width=\"100%\">"
   ]
  },
  {
   "cell_type": "markdown",
   "metadata": {
    "slideshow": {
     "slide_type": "slide"
    }
   },
   "source": [
    "<img src=\"./imgs/sequence_project/sequence_project.007.png\" width=\"100%\">"
   ]
  },
  {
   "cell_type": "markdown",
   "metadata": {
    "slideshow": {
     "slide_type": "slide"
    }
   },
   "source": [
    "<img src=\"./imgs/sequence_project/sequence_project.008.png\" width=\"100%\">"
   ]
  },
  {
   "cell_type": "markdown",
   "metadata": {
    "slideshow": {
     "slide_type": "slide"
    }
   },
   "source": [
    "# Project\n",
    "\n",
    "We have a gene (alr2), but what part of the gene is responsible for allorecognition?\n",
    "\n",
    "Given 179 sequences, how might we find out?\n",
    "\n",
    "https://MSCBIO2025.github.io/files/hydra179.aln"
   ]
  },
  {
   "cell_type": "markdown",
   "metadata": {
    "slideshow": {
     "slide_type": "fragment"
    }
   },
   "source": [
    "Find the part of the sequence that changes the most.\n",
    " * Count number of distinct residues at each position. Plot.\n",
    " * Count number of distinct *subsequences* of length 10 at each position. Plot."
   ]
  },
  {
   "cell_type": "markdown",
   "metadata": {
    "slideshow": {
     "slide_type": "subslide"
    }
   },
   "source": [
    "<img src=\"./imgs/sequence_project/sequence_project.011.png\">"
   ]
  },
  {
   "cell_type": "code",
   "execution_count": null,
   "metadata": {},
   "outputs": [],
   "source": [
    "!wget https://MSCBIO2025.github.io/files/hydra179.aln"
   ]
  },
  {
   "cell_type": "code",
   "execution_count": 43,
   "metadata": {
    "slideshow": {
     "slide_type": "notes"
    }
   },
   "outputs": [
    {
     "data": {
      "image/png": "[encoded data removed]",
      "text/plain": [
       "<Figure size 640x480 with 1 Axes>"
      ]
     },
     "metadata": {},
     "output_type": "display_data"
    }
   ],
   "source": [
    "import matplotlib.pyplot as plt\n",
    "from Bio import AlignIO\n",
    "\n",
    "def countatpos(seqs,pos):\n",
    "    '''count the number of unique subsequences of length 10 at pos in seqs'''\n",
    "    vals = set()\n",
    "    for s in seqs:\n",
    "        vals.add(str(s[pos:pos+10].seq))\n",
    "    return len(vals)\n",
    "\n",
    "seqs = AlignIO.read(\"hydra179.aln\",'clustal');\n",
    "\n",
    "xaxis = list()\n",
    "yaxis = list()\n",
    "for i in range(seqs.get_alignment_length()):\n",
    "    xaxis.append(i)\n",
    "    yaxis.append(countatpos(seqs,i))\n",
    "\n",
    "plt.bar(xaxis,yaxis,width=1);"
   ]
  },
  {
   "cell_type": "code",
   "execution_count": null,
   "metadata": {},
   "outputs": [],
   "source": []
  }
 ],
 "metadata": {
  "celltoolbar": "Slideshow",
  "kernelspec": {
   "display_name": "Python 3 (ipykernel)",
   "language": "python",
   "name": "python3"
  },
  "language_info": {
   "codemirror_mode": {
    "name": "ipython",
    "version": 3
   },
   "file_extension": ".py",
   "mimetype": "text/x-python",
   "name": "python",
   "nbconvert_exporter": "python",
   "pygments_lexer": "ipython3",
   "version": "3.10.12"
  }
 },
 "nbformat": 4,
 "nbformat_minor": 4
}
