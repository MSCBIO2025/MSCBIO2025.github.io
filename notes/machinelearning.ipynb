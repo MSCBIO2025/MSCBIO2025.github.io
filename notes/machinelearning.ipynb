{
 "cells": [
  {
   "cell_type": "markdown",
   "metadata": {
    "slideshow": {
     "slide_type": "slide"
    }
   },
   "source": [
    "# Machine Learning Overview\n",
    "\n",
    "## 11/7/2023\n",
    "<a href=\"?print-pdf\">print view</a>\n",
    "\n",
    "<a href=\"machinelearning.ipynb\">notebook</a>"
   ]
  },
  {
   "cell_type": "code",
   "execution_count": 1,
   "metadata": {},
   "outputs": [
    {
     "data": {
      "text/html": [
       "<script src=\"https://bits.csb.pitt.edu/preamble.js\"></script>\n"
      ],
      "text/plain": [
       "<IPython.core.display.HTML object>"
      ]
     },
     "metadata": {},
     "output_type": "display_data"
    }
   ],
   "source": [
    "%%html\n",
    "<script src=\"https://bits.csb.pitt.edu/preamble.js\"></script>"
   ]
  },
  {
   "cell_type": "markdown",
   "metadata": {
    "slideshow": {
     "slide_type": "slide"
    }
   },
   "source": [
    "# What is machine learning?\n",
    "\n",
    "*Machine learning is a subfield of computer science that evolved from the study of pattern recognition and computational learning theory in artificial intelligence. Machine learning explores the study and construction of algorithms that can learn from and make predictions on data.* --Wikipedia\n",
    "\n",
    "*Creating useful and/or predictive computational models from data* --dkoes"
   ]
  },
  {
   "cell_type": "markdown",
   "metadata": {
    "slideshow": {
     "slide_type": "slide"
    }
   },
   "source": [
    "# Unsupervised Learning\n",
    "\n",
    "Construct a model from unlabeled data.  That is, discover an underlying structure in the data.\n",
    "\n",
    "We've done this!\n",
    " * Clustering\n",
    " * Principal Components Analysis (PCA)\n",
    " * UMAP\n",
    " \n",
    "Also\n",
    " * Latent variable methods\n",
    " * Expectation-maximization\n",
    " * Self-organizing map"
   ]
  },
  {
   "cell_type": "code",
   "execution_count": 4,
   "metadata": {
    "slideshow": {
     "slide_type": "slide"
    }
   },
   "outputs": [
    {
     "name": "stderr",
     "output_type": "stream",
     "text": [
      "C:\\Users\\shikh\\.conda\\envs\\deeplearn2\\lib\\site-packages\\scipy\\cluster\\vq.py:602: UserWarning: One of the clusters is empty. Re-run kmeans with a different initialization.\n",
      "  warnings.warn(\"One of the clusters is empty. \"\n"
     ]
    },
    {
     "data": {
      "image/png": "[encoded data removed]",
      "text/plain": [
       "<Figure size 432x288 with 1 Axes>"
      ]
     },
     "metadata": {
      "needs_background": "light"
     },
     "output_type": "display_data"
    }
   ],
   "source": [
    "import numpy as np\n",
    "from matplotlib.pylab import cm\n",
    "import scipy.cluster.vq as vq #vq: vector quantization\n",
    "import matplotlib.pylab as plt\n",
    "%matplotlib inline\n",
    "randpts = np.vstack((np.random.randn(100,2)/(4,1),(np.random.randn(100,2)+(1,0))/(1,4)))\n",
    "(means,clusters) = vq.kmeans2(randpts,4)\n",
    "plt.scatter(randpts[:,0],randpts[:,1],c=clusters)\n",
    "plt.plot(means[:,0],means[:,1],'*',ms=20);"
   ]
  },
  {
   "cell_type": "markdown",
   "metadata": {
    "slideshow": {
     "slide_type": "slide"
    }
   },
   "source": [
    "# Supervised Learning\n",
    "\n",
    "Create a model from labeled data. The data consists of a set of *examples* where each example has a number of features *X* and a label *y*.\n",
    "\n",
    "Our assumption is that the label is a function of the features:\n",
    "$$y = f(X)$$  \n",
    "And our goal is to determine what f is. \n",
    "We want a model/estimator/classifier that accurately predicts *y* given an _X_.\n",
    "<div style=\"text-align: center; font-size: 150%\">$X \\rightarrow$<div style=\"display: inline-block; background-color: black; width: em; color: white; font-size: 120%; padding: 1em; font-weight: bold\">Model</div>$ \\rightarrow y$</div>\n"
   ]
  },
  {
   "cell_type": "markdown",
   "metadata": {
    "slideshow": {
     "slide_type": "slide"
    }
   },
   "source": [
    "# Labels\n",
    "\n",
    "There are two main types of supervised learning depending on the type of label.\n",
    "\n",
    "## Classification\n",
    "\n",
    "The label is one of a limited number of classes.\n",
    "Most commonly it is a binary label.\n",
    " * Will it rain tomorrow?\n",
    " * Is the protein overexpressed?\n",
    " * Do the cells die?\n",
    "\n",
    "## Regression\n",
    "\n",
    "The label is a continuous value.\n",
    " * How much precipitation will there be tomorrow?\n",
    " * What is the expression level of the protein?\n",
    " * What percent of the cells died?"
   ]
  },
  {
   "cell_type": "markdown",
   "metadata": {
    "slideshow": {
     "slide_type": "slide"
    }
   },
   "source": [
    "# Features\n",
    "\n",
    "The features, *X*, are what make each example distinct.  Ideally they contain enough information to predict _y_.\n",
    "The choice of features is critical and problem-specific.\n",
    "\n",
    "There are three main three main types:\n",
    " * Binary - zero or one\n",
    " * Categorical - one of a limited number of values\n",
    "   * Ordinal - low, medium, high\n",
    "   * Nominal - nucleus, endoplasmic recticulum, mitochondria, ribosome\n",
    " * Numerical \n",
    "   * Interval - temperature (in celcius or fahrenheight)\n",
    "   * Ratio  - temperature (in Kelvin scale)\n",
    " \n",
    "Not all classifiers can handle all three types, but we can inter-convert.\n",
    "\n",
    "How?"
   ]
  },
  {
   "cell_type": "markdown",
   "metadata": {
    "slideshow": {
     "slide_type": "slide"
    }
   },
   "source": [
    "# Example\n",
    "\n",
    "Let's use chemical fingerprints as features!"
   ]
  },
  {
   "cell_type": "code",
   "execution_count": 3,
   "metadata": {},
   "outputs": [
    {
     "name": "stdout",
     "output_type": "stream",
     "text": [
      "--2023-10-30 20:28:02--  http://mscbio2025.csb.pitt.edu/files/er.smi\r\n",
      "Resolving mscbio2025.csb.pitt.edu (mscbio2025.csb.pitt.edu)... 136.142.4.139\r\n",
      "Connecting to mscbio2025.csb.pitt.edu (mscbio2025.csb.pitt.edu)|136.142.4.139|:80... connected.\r\n",
      "HTTP request sent, awaiting response... 200 OK\r\n",
      "Length: 20022 (20K) [application/smil+xml]\r\n",
      "Saving to: ‘er.smi.1’\r\n",
      "\r\n",
      "\r",
      "er.smi.1              0%[                    ]       0  --.-KB/s               \r",
      "er.smi.1            100%[===================>]  19.55K  --.-KB/s    in 0s      \r\n",
      "\r\n",
      "2023-10-30 20:28:02 (47.1 MB/s) - ‘er.smi.1’ saved [20022/20022]\r\n",
      "\r\n"
     ]
    }
   ],
   "source": [
    "!wget http://mscbio2025.csb.pitt.edu/files/er.smi"
   ]
  },
  {
   "cell_type": "code",
   "execution_count": 5,
   "metadata": {
    "slideshow": {
     "slide_type": "slide"
    }
   },
   "outputs": [],
   "source": [
    "from openbabel import pybel\n",
    "yvals = []\n",
    "fps = []\n",
    "for mol in pybel.readfile('smi','er.smi'):\n",
    "    yvals.append(float(mol.title))\n",
    "    fpbits = mol.calcfp().bits\n",
    "    fp = np.zeros(1024)\n",
    "    fp[fpbits] = 1\n",
    "    fps.append(fp)\n",
    "    \n",
    "X = np.array(fps)\n",
    "y = np.array(yvals)"
   ]
  },
  {
   "cell_type": "code",
   "execution_count": 11,
   "metadata": {
    "slideshow": {
     "slide_type": "slide"
    }
   },
   "outputs": [
    {
     "data": {
      "text/plain": [
       "<Figure size 864x360 with 0 Axes>"
      ]
     },
     "metadata": {},
     "output_type": "display_data"
    },
    {
     "data": {
      "image/png": "[encoded data removed]",
      "text/plain": [
       "<Figure size 762.047x288 with 1 Axes>"
      ]
     },
     "metadata": {
      "needs_background": "light"
     },
     "output_type": "display_data"
    },
    {
     "data": {
      "image/png": "[encoded data removed]",
      "text/plain": [
       "<Figure size 720x360 with 1 Axes>"
      ]
     },
     "metadata": {
      "needs_background": "light"
     },
     "output_type": "display_data"
    },
    {
     "data": {
      "text/plain": [
       "(387, 1024)"
      ]
     },
     "execution_count": 11,
     "metadata": {},
     "output_type": "execute_result"
    }
   ],
   "source": [
    "plt.figure(figsize=(12,5))\n",
    "plt.matshow(X,cmap=cm.seismic)\n",
    "plt.show()\n",
    "plt.figure(figsize=(10,5))\n",
    "plt.plot(y,color='blue')\n",
    "plt.show()\n",
    "X.shape"
   ]
  },
  {
   "cell_type": "markdown",
   "metadata": {
    "slideshow": {
     "slide_type": "slide"
    }
   },
   "source": [
    "The y-values, taken from the second column of the smiles file, are the logS solubility."
   ]
  },
  {
   "cell_type": "code",
   "execution_count": 7,
   "metadata": {
    "slideshow": {
     "slide_type": "-"
    }
   },
   "outputs": [
    {
     "data": {
      "image/png": "[encoded data removed]",
      "text/plain": [
       "<Figure size 640x480 with 1 Axes>"
      ]
     },
     "metadata": {},
     "output_type": "display_data"
    }
   ],
   "source": [
    "plt.hist(y);"
   ]
  },
  {
   "cell_type": "code",
   "execution_count": 9,
   "metadata": {
    "slideshow": {
     "slide_type": "slide"
    }
   },
   "outputs": [
    {
     "data": {
      "text/html": [
       "<div id=\"classtype\" style=\"width: 500px\"></div>\n",
       "<script>\n",
       "\n",
       "    var divid = '#classtype';\n",
       "\tjQuery(divid).asker({\n",
       "\t    id: divid,\n",
       "\t    question: \"What sort of problem is this??\",\n",
       "        answers: ['Classification','Regression','Unsupervised'],\n",
       "        server: \"https://bits.csb.pitt.edu/asker.js/example/asker.cgi\",\n",
       "\t\tcharter: chartmaker})\n",
       "    \n",
       "$(\".jp-InputArea .o:contains(html)\").closest('.jp-InputArea').hide();\n",
       "\n",
       "\n",
       "</script>\n"
      ],
      "text/plain": [
       "<IPython.core.display.HTML object>"
      ]
     },
     "metadata": {},
     "output_type": "display_data"
    }
   ],
   "source": [
    "%%html\n",
    "<div id=\"classtype\" style=\"width: 500px\"></div>\n",
    "<script>\n",
    "\n",
    "    var divid = '#classtype';\n",
    "\tjQuery(divid).asker({\n",
    "\t    id: divid,\n",
    "\t    question: \"What sort of problem is this??\",\n",
    "        answers: ['Classification','Regression','Unsupervised'],\n",
    "        server: \"https://bits.csb.pitt.edu/asker.js/example/asker.cgi\",\n",
    "\t\tcharter: chartmaker})\n",
    "    \n",
    "$(\".jp-InputArea .o:contains(html)\").closest('.jp-InputArea').hide();\n",
    "\n",
    "\n",
    "</script>"
   ]
  },
  {
   "cell_type": "markdown",
   "metadata": {
    "slideshow": {
     "slide_type": "slide"
    }
   },
   "source": [
    "# `sklearn`\n",
    "\n",
    "[scikit-learn](http://scikit-learn.org/stable/) provides a complete set machine learning tools.\n",
    "\n",
    "* Classification\n",
    "* Regression\n",
    "* Clustering\n",
    "* Dimensionality reduction\n",
    "* Model selection and evaluation\n",
    "* Preprocessing"
   ]
  },
  {
   "cell_type": "code",
   "execution_count": 10,
   "metadata": {},
   "outputs": [],
   "source": [
    "import sklearn"
   ]
  },
  {
   "cell_type": "markdown",
   "metadata": {
    "slideshow": {
     "slide_type": "slide"
    }
   },
   "source": [
    "# Linear Model\n",
    "\n",
    "One of the simplest models is a linear regression, where the goal is to find weights *w* to minimize:\n",
    "$$\\sum(Xw - y)^2$$\n",
    "\n",
    "<table>\n",
    "<tr>\n",
    "<td>\n",
    "<img src=\"https://upload.wikimedia.org/wikipedia/commons/thumb/3/3a/Linear_regression.svg/400px-Linear_regression.svg.png\"></td><td>\n",
    "<img src=\"http://fab.cba.mit.edu/classes/864.11/people/Moritz_Kassner/img/blue_plane.png\"></td></tr>\n",
    "</table>"
   ]
  },
  {
   "cell_type": "code",
   "execution_count": 11,
   "metadata": {
    "slideshow": {
     "slide_type": "slide"
    }
   },
   "outputs": [
    {
     "data": {
      "text/html": [
       "<div id=\"wshape\" style=\"width: 500px\"></div>\n",
       "<script>\n",
       "\n",
       "    var divid = '#wshape';\n",
       "\tjQuery(divid).asker({\n",
       "\t    id: divid,\n",
       "\t    question: \"What is the shape of w?\",\n",
       "        answers: ['387','1024','(378,1024)','(1024,387)',\"I've never taken matrix algebra\"],\n",
       "        server: \"https://bits.csb.pitt.edu/asker.js/example/asker.cgi\",\n",
       "\t\tcharter: chartmaker})\n",
       "    \n",
       "$(\".jp-InputArea .o:contains(html)\").closest('.jp-InputArea').hide();\n",
       "\n",
       "\n",
       "</script>\n"
      ],
      "text/plain": [
       "<IPython.core.display.HTML object>"
      ]
     },
     "metadata": {},
     "output_type": "display_data"
    }
   ],
   "source": [
    "%%html\n",
    "<div id=\"wshape\" style=\"width: 500px\"></div>\n",
    "<script>\n",
    "\n",
    "    var divid = '#wshape';\n",
    "\tjQuery(divid).asker({\n",
    "\t    id: divid,\n",
    "\t    question: \"What is the shape of w?\",\n",
    "        answers: ['387','1024','(378,1024)','(1024,387)',\"I've never taken matrix algebra\"],\n",
    "        server: \"https://bits.csb.pitt.edu/asker.js/example/asker.cgi\",\n",
    "\t\tcharter: chartmaker})\n",
    "    \n",
    "$(\".jp-InputArea .o:contains(html)\").closest('.jp-InputArea').hide();\n",
    "\n",
    "\n",
    "</script>"
   ]
  },
  {
   "cell_type": "markdown",
   "metadata": {
    "slideshow": {
     "slide_type": "slide"
    }
   },
   "source": [
    "# Linear Model\n",
    "\n",
    "`sklearn` has a uniform interface for all its models:"
   ]
  },
  {
   "cell_type": "code",
   "execution_count": 12,
   "metadata": {},
   "outputs": [],
   "source": [
    "from sklearn import linear_model\n",
    "model = linear_model.LinearRegression() # create the model\n",
    "model.fit(X,y) # fit the model to the data\n",
    "p = model.predict(X) # make predictions with the model"
   ]
  },
  {
   "cell_type": "code",
   "execution_count": 13,
   "metadata": {},
   "outputs": [
    {
     "data": {
      "image/png": "[encoded data removed]",
      "text/plain": [
       "<Figure size 360x360 with 1 Axes>"
      ]
     },
     "metadata": {
      "needs_background": "light"
     },
     "output_type": "display_data"
    }
   ],
   "source": [
    "plt.figure(figsize = (5,5))\n",
    "plt.scatter(y,p); plt.xlabel('True'); plt.ylabel('Predict');"
   ]
  },
  {
   "cell_type": "markdown",
   "metadata": {
    "slideshow": {
     "slide_type": "slide"
    }
   },
   "source": [
    "Let's reframe this is a classification problem for illustrative purposes..."
   ]
  },
  {
   "cell_type": "code",
   "execution_count": 17,
   "metadata": {},
   "outputs": [
    {
     "data": {
      "image/png": "[encoded data removed]",
      "text/plain": [
       "<Figure size 432x288 with 1 Axes>"
      ]
     },
     "metadata": {
      "needs_background": "light"
     },
     "output_type": "display_data"
    }
   ],
   "source": [
    "ylabel = y > -1\n",
    "plabel = p > -1\n",
    "plt.hist(np.uint8(ylabel));"
   ]
  },
  {
   "cell_type": "markdown",
   "metadata": {
    "slideshow": {
     "slide_type": "slide"
    }
   },
   "source": [
    "# Evaluating Predictions\n",
    "\n",
    "**Confusion matrix** provides ways to evaluate prediction accuracy\n",
    "<img src=\"confmat.png\">\n",
    " * *TP* true positive, a correctly predicted positive example\n",
    " * *TN*  true negatie, a correctly predicted negative example\n",
    " * *FP* false positive, a negative example incorrectly predicted as positive\n",
    " * *FN* false negative, a positive example incorrectly predicted as negative\n",
    " * *P* total number of positives (*TP* + *FN*)\n",
    " * *N* total number of negatives (*TN* + *FP*)\n",
    "\n",
    "\n",
    "Accuracy: $\\frac{TP+TN}{P+N}$"
   ]
  },
  {
   "cell_type": "code",
   "execution_count": 38,
   "metadata": {
    "slideshow": {
     "slide_type": "slide"
    }
   },
   "outputs": [
    {
     "name": "stdout",
     "output_type": "stream",
     "text": [
      "Accuracy\n",
      "0.9431524547803618\n",
      "\n",
      "Confusion Matrix\n",
      "[['TP' 'FN']\n",
      " ['FP' 'TP']]\n",
      "[[200  10]\n",
      " [ 12 165]]\n"
     ]
    }
   ],
   "source": [
    "from sklearn.metrics import * #pull in accuracy score, amount other things\n",
    "print('Accuracy')\n",
    "print(accuracy_score(ylabel, plabel))\n",
    "\n",
    "print('\\nConfusion Matrix')\n",
    "print(np.array([['TP', 'FN'],['FP','TP']]))\n",
    "print(confusion_matrix(ylabel,plabel).transpose())"
   ]
  },
  {
   "cell_type": "markdown",
   "metadata": {
    "slideshow": {
     "slide_type": "slide"
    }
   },
   "source": [
    "# Other measures\n",
    "\n",
    "Precision. Of those predicted true, how may are accurate? $\\frac{TP}{TP+FP}$\n",
    "\n",
    "Recall (true positive rate). How many of the true examples were retrieved? $\\frac{TP}{P}$\n",
    "\n",
    "F1 Score. The harmonic mean of precision and recall. $\\frac{2TP}{2TP+FP+FN}$"
   ]
  },
  {
   "cell_type": "code",
   "execution_count": 31,
   "metadata": {},
   "outputs": [
    {
     "name": "stdout",
     "output_type": "stream",
     "text": [
      "              precision    recall  f1-score   support\n",
      "\n",
      "       False       0.95      0.94      0.95       212\n",
      "        True       0.93      0.94      0.94       175\n",
      "\n",
      "    accuracy                           0.94       387\n",
      "   macro avg       0.94      0.94      0.94       387\n",
      "weighted avg       0.94      0.94      0.94       387\n",
      "\n"
     ]
    }
   ],
   "source": [
    "print(classification_report(ylabel,plabel))"
   ]
  },
  {
   "cell_type": "code",
   "execution_count": 19,
   "metadata": {
    "slideshow": {
     "slide_type": "slide"
    }
   },
   "outputs": [
    {
     "data": {
      "text/html": [
       "<div id=\"confq\" style=\"width: 500px\"></div>\n",
       "<script>\n",
       "\n",
       "    var divid = '#confq';\n",
       "\tjQuery(divid).asker({\n",
       "\t    id: divid,\n",
       "\t    question: \"What would the recall be if our classifer predicted everything as true?\",\n",
       "        answers: ['0','81/306','0.5','1.0'],\n",
       "        server: \"https://bits.csb.pitt.edu/asker.js/example/asker.cgi\",\n",
       "\t\tcharter: chartmaker})\n",
       "    \n",
       "$(\".jp-InputArea .o:contains(html)\").closest('.jp-InputArea').hide();\n",
       "\n",
       "\n",
       "</script>\n"
      ],
      "text/plain": [
       "<IPython.core.display.HTML object>"
      ]
     },
     "metadata": {},
     "output_type": "display_data"
    }
   ],
   "source": [
    "%%html\n",
    "<div id=\"confq\" style=\"width: 500px\"></div>\n",
    "<script>\n",
    "\n",
    "    var divid = '#confq';\n",
    "\tjQuery(divid).asker({\n",
    "\t    id: divid,\n",
    "\t    question: \"What would the recall be if our classifer predicted everything as true?\",\n",
    "        answers: ['0','81/306','0.5','1.0'],\n",
    "        server: \"https://bits.csb.pitt.edu/asker.js/example/asker.cgi\",\n",
    "\t\tcharter: chartmaker})\n",
    "    \n",
    "$(\".jp-InputArea .o:contains(html)\").closest('.jp-InputArea').hide();\n",
    "\n",
    "\n",
    "</script>"
   ]
  },
  {
   "cell_type": "markdown",
   "metadata": {
    "slideshow": {
     "slide_type": "slide"
    }
   },
   "source": [
    "# ROC Curves\n",
    "\n",
    "The previous metrics work on classification results (yes or no).  Many models are capable of producing scores or probabilities (recall we had to threshold our results).  The classification performance then depends on what score threshold is chosen to distinguish the two classes.\n",
    "\n",
    "ROC curves plot the false positive rate and true positive rate as this treshold is changed."
   ]
  },
  {
   "cell_type": "code",
   "execution_count": 33,
   "metadata": {
    "slideshow": {
     "slide_type": "slide"
    }
   },
   "outputs": [
    {
     "data": {
      "image/png": "[encoded data removed]",
      "text/plain": [
       "<Figure size 504x504 with 1 Axes>"
      ]
     },
     "metadata": {
      "needs_background": "light"
     },
     "output_type": "display_data"
    }
   ],
   "source": [
    "fpr, tpr, thresholds = roc_curve(ylabel, p)  #not using rounded values\n",
    "plt.figure(figsize=(7,7))\n",
    "plt.plot(fpr,tpr,linewidth=4,clip_on=False)\n",
    "plt.xlabel(\"FPR\"); plt.ylabel(\"TPR\")\n",
    "plt.gca().set_aspect('equal')\n",
    "plt.ylim(0,1); plt.xlim(0,1); plt.show()"
   ]
  },
  {
   "cell_type": "markdown",
   "metadata": {
    "slideshow": {
     "slide_type": "slide"
    }
   },
   "source": [
    "# AUC\n",
    "\n",
    "The area under the ROC curve (AUC) has a statistical meaning. It is equal to the probability that the classifier will rank a randomly chosen positive example higher than a randomly chosen negative example.\n",
    "\n",
    "An AUC of one is perfect prediction.\n",
    "\n",
    "An AUC of 0.5 is the same as random."
   ]
  },
  {
   "cell_type": "code",
   "execution_count": 36,
   "metadata": {
    "slideshow": {
     "slide_type": "slide"
    }
   },
   "outputs": [
    {
     "name": "stdout",
     "output_type": "stream",
     "text": [
      "0.49897574123989225\n"
     ]
    },
    {
     "data": {
      "image/png": "[encoded data removed]",
      "text/plain": [
       "<Figure size 432x288 with 1 Axes>"
      ]
     },
     "metadata": {
      "needs_background": "light"
     },
     "output_type": "display_data"
    },
    {
     "data": {
      "text/plain": [
       "<Figure size 720x720 with 0 Axes>"
      ]
     },
     "metadata": {},
     "output_type": "display_data"
    }
   ],
   "source": [
    "np.random.shuffle(p)\n",
    "fpr, tpr, thresholds = roc_curve(ylabel, p)  \n",
    "plt.plot(fpr,tpr,linewidth=3); plt.xlabel(\"FPR\"); plt.ylabel(\"TPR\"); plt.ylim(0,1); plt.xlim(0,1)\n",
    "plt.gca().set_aspect('equal')\n",
    "plt.figure(figsize=(10,10))\n",
    "print(roc_auc_score(ylabel,p))"
   ]
  },
  {
   "cell_type": "markdown",
   "metadata": {
    "slideshow": {
     "slide_type": "slide"
    }
   },
   "source": [
    "# Correct Model Evaluation\n",
    "\n",
    "We have been evaluating how well our model can fit the training data.  This is not the relevant metric.\n",
    "\n",
    "We are most interested in *generalization error*: the ability of the model to predict **new** data that was not part of the training set.\n",
    "\n",
    "In order to assess the *predictiveness* of the model, we must use it to predict data it has not been trained on."
   ]
  },
  {
   "cell_type": "markdown",
   "metadata": {
    "slideshow": {
     "slide_type": "slide"
    }
   },
   "source": [
    "# Cross Validation\n",
    "\n",
    "In cross validation we train on a portion of the data and test on the remainder.\n",
    "\n",
    "### K-Fold Cross Validation\n",
    " * split data into *k* parts, or folds\n",
    " * train *k* models, each using a different set of k-1 folds\n",
    " * evaluate on held out set\n",
    " \n",
    " If k == n, called leave-one-out cross validation.\n",
    " \n",
    " <img width=\"600\" src=\"http://i.stack.imgur.com/1fXzJ.png\">"
   ]
  },
  {
   "cell_type": "code",
   "execution_count": 22,
   "metadata": {
    "slideshow": {
     "slide_type": "slide"
    }
   },
   "outputs": [
    {
     "data": {
      "text/html": [
       "<div id=\"crossq\" style=\"width: 500px\"></div>\n",
       "<script>\n",
       "\n",
       "    var divid = '#crossq';\n",
       "\tjQuery(divid).asker({\n",
       "\t    id: divid,\n",
       "\t    question: \"In 5-fold cross validation, on average, how many times will a given example be in the training set?\",\n",
       "        answers: ['0','1','2.5','4','5'],\n",
       "        server: \"https://bits.csb.pitt.edu/asker.js/example/asker.cgi\",\n",
       "\t\tcharter: chartmaker})\n",
       "    \n",
       "$(\".jp-InputArea .o:contains(html)\").closest('.jp-InputArea').hide();\n",
       "\n",
       "\n",
       "</script>\n"
      ],
      "text/plain": [
       "<IPython.core.display.HTML object>"
      ]
     },
     "metadata": {},
     "output_type": "display_data"
    }
   ],
   "source": [
    "%%html\n",
    "<div id=\"crossq\" style=\"width: 500px\"></div>\n",
    "<script>\n",
    "\n",
    "    var divid = '#crossq';\n",
    "\tjQuery(divid).asker({\n",
    "\t    id: divid,\n",
    "\t    question: \"In 5-fold cross validation, on average, how many times will a given example be in the training set?\",\n",
    "        answers: ['0','1','2.5','4','5'],\n",
    "        server: \"https://bits.csb.pitt.edu/asker.js/example/asker.cgi\",\n",
    "\t\tcharter: chartmaker})\n",
    "    \n",
    "$(\".jp-InputArea .o:contains(html)\").closest('.jp-InputArea').hide();\n",
    "\n",
    "\n",
    "</script>"
   ]
  },
  {
   "cell_type": "markdown",
   "metadata": {
    "slideshow": {
     "slide_type": "slide"
    }
   },
   "source": [
    "# Cross Validation\n",
    "\n",
    "`sklearn` implement a number of cross validation variants.  They provide a way to generate test/train sets."
   ]
  },
  {
   "cell_type": "code",
   "execution_count": 20,
   "metadata": {},
   "outputs": [],
   "source": [
    "from sklearn.model_selection import KFold\n",
    "kf = KFold(n_splits=5)\n",
    "accuracies = []; rocs = []\n",
    "accuracies_train = []; rocs_train = [];\n",
    "for train,test in kf.split(X): # these are arrays of indices\n",
    "    model = linear_model.LinearRegression() \n",
    "    model.fit(X[train],y[train]) #slice out the training folds\n",
    "    p = model.predict(X[test]) #slice out the test fold\n",
    "    accuracies.append(accuracy_score(ylabel[test],p > -1))\n",
    "    fpr, tpr, thresholds = roc_curve(ylabel[test], p)  \n",
    "    rocs.append( (fpr,tpr, roc_auc_score(ylabel[test], p)))\n",
    "    #training data\n",
    "    p_train = model.predict(X[train]) #slice out the test fold\n",
    "    accuracies_train.append(accuracy_score(ylabel[train],p_train > -1))\n",
    "    fpr, tpr, thresholds = roc_curve(ylabel[train], p_train)  \n",
    "    rocs_train.append( (fpr,tpr, roc_auc_score(ylabel[train], p_train)))"
   ]
  },
  {
   "cell_type": "code",
   "execution_count": 22,
   "metadata": {
    "slideshow": {
     "slide_type": "slide"
    }
   },
   "outputs": [
    {
     "name": "stdout",
     "output_type": "stream",
     "text": [
      "[0.6282051282051282, 0.6410256410256411, 0.5454545454545454, 0.7142857142857143, 0.7012987012987013]\n",
      "Average accuracy: 0.6460539460539461 \n",
      "\n",
      "[0.9514563106796117, 0.948220064724919, 0.9612903225806452, 0.9580645161290322, 0.9483870967741935]\n",
      "Average accuracy (training data): 0.9534836621776803\n"
     ]
    }
   ],
   "source": [
    "print(accuracies)\n",
    "print(\"Average accuracy:\",np.mean(accuracies),'\\n')\n",
    "\n",
    "print(accuracies_train)\n",
    "print(\"Average accuracy (training data):\",np.mean(accuracies_train))"
   ]
  },
  {
   "cell_type": "code",
   "execution_count": 36,
   "metadata": {
    "slideshow": {
     "slide_type": "slide"
    }
   },
   "outputs": [
    {
     "data": {
      "image/png": "[encoded data removed]",
      "text/plain": [
       "<Figure size 720x360 with 2 Axes>"
      ]
     },
     "metadata": {
      "needs_background": "light"
     },
     "output_type": "display_data"
    }
   ],
   "source": [
    "fig, ax = plt.subplots(1,2, figsize=(10,5));\n",
    "\n",
    "for roc in rocs:\n",
    "    ax[0].plot(roc[0],roc[1],label=\"AUC %.2f\" %roc[2]); \n",
    "ax[0].set(xlabel=\"FPR\", ylabel=\"TPR\", ); ax[0].set_ylim(0,1); ax[0].set_xlim(0,1); ax[0].legend(loc='best');\n",
    "\n",
    "for roc in rocs_train:\n",
    "    ax[1].plot(roc[0],roc[1],label=\"AUC %.2f\" %roc[2]); \n",
    "ax[1].set(xlabel=\"FPR\", ylabel=\"TPR\", ); ax[1].set_ylim(0,1); ax[1].set_xlim(0,1); ax[1].legend(loc='best');\n",
    "\n",
    "\n",
    "\n",
    "plt.show()"
   ]
  },
  {
   "cell_type": "markdown",
   "metadata": {
    "slideshow": {
     "slide_type": "slide"
    }
   },
   "source": [
    "## Alternatively..."
   ]
  },
  {
   "cell_type": "code",
   "execution_count": 27,
   "metadata": {},
   "outputs": [
    {
     "data": {
      "text/plain": [
       "{'fit_time': array([0.08149719, 0.09700084, 0.07871628, 0.0587194 , 0.05852962]),\n",
       " 'score_time': array([0.01111794, 0.01063108, 0.002177  , 0.00211978, 0.0022378 ]),\n",
       " 'test_roc_auc': array([0.67105263, 0.52777778, 0.65067568, 0.69740741, 0.63090418])}"
      ]
     },
     "execution_count": 27,
     "metadata": {},
     "output_type": "execute_result"
    }
   ],
   "source": [
    "from sklearn.model_selection import cross_validate\n",
    "\n",
    "cross_validate(linear_model.LinearRegression(),X,y > -1,cv=5,scoring=['roc_auc'])"
   ]
  },
  {
   "cell_type": "code",
   "execution_count": 28,
   "metadata": {
    "slideshow": {
     "slide_type": "slide"
    }
   },
   "outputs": [
    {
     "data": {
      "text/html": [
       "<div id=\"howgood\" style=\"width: 500px\"></div>\n",
       "<script>\n",
       "\n",
       "    var divid = '#howgood';\n",
       "\tjQuery(divid).asker({\n",
       "\t    id: divid,\n",
       "\t    question: \"How good is the predictiveness of our model?\",\n",
       "        answers: ['A','B','C','D'],\n",
       "\t\textra: ['Still Perfect','Not perfect, but still good','Not great, but better than random','Horrible'],\n",
       "        server: \"https://bits.csb.pitt.edu/asker.js/example/asker.cgi\",\n",
       "\t\tcharter: chartmaker})\n",
       "    \n",
       "$(\".jp-InputArea .o:contains(html)\").closest('.jp-InputArea').hide();\n",
       "\n",
       "\n",
       "</script>\n"
      ],
      "text/plain": [
       "<IPython.core.display.HTML object>"
      ]
     },
     "metadata": {},
     "output_type": "display_data"
    }
   ],
   "source": [
    "%%html\n",
    "<div id=\"howgood\" style=\"width: 500px\"></div>\n",
    "<script>\n",
    "\n",
    "    var divid = '#howgood';\n",
    "\tjQuery(divid).asker({\n",
    "\t    id: divid,\n",
    "\t    question: \"How good is the predictiveness of our model?\",\n",
    "        answers: ['A','B','C','D'],\n",
    "\t\textra: ['Still Perfect','Not perfect, but still good','Not great, but better than random','Horrible'],\n",
    "        server: \"https://bits.csb.pitt.edu/asker.js/example/asker.cgi\",\n",
    "\t\tcharter: chartmaker})\n",
    "    \n",
    "$(\".jp-InputArea .o:contains(html)\").closest('.jp-InputArea').hide();\n",
    "\n",
    "\n",
    "</script>"
   ]
  },
  {
   "cell_type": "markdown",
   "metadata": {
    "slideshow": {
     "slide_type": "slide"
    }
   },
   "source": [
    "# Generalization Error\n",
    "\n",
    "There are several sources of generalization error:\n",
    " * overfitting - using artifacts of the data to make predictions\n",
    "   * our data set has 387 examples and 1024 features\n",
    " * insufficient data - not enough or not the right kind\n",
    " * inappropriate model - isn't capable of representing reality\n",
    " \n",
    "A large different between cross-validation performance and fit (test-on-train) performance indicates overfitting.\n",
    "\n",
    "One way to reduce overfitting is to reduce the number of features used for training (this is called *feature selection*)."
   ]
  },
  {
   "cell_type": "markdown",
   "metadata": {
    "slideshow": {
     "slide_type": "slide"
    }
   },
   "source": [
    "# LASSO\n",
    "\n",
    "Lasso is a modified form of linear regression that includes a *regularization* parameter $\\alpha$\n",
    "$$\\sum(Xw - y)^2 + \\alpha\\sum|w|$$\n",
    "\n",
    "The higher the value of $\\alpha$, the greater the penalty for having non-zero weights.  This has the effect of driving weights to zero and selecting fewer features for the model.\n"
   ]
  },
  {
   "cell_type": "code",
   "execution_count": 29,
   "metadata": {},
   "outputs": [],
   "source": [
    "kf = KFold(n_splits=5)\n",
    "accuracies = []; rocs = []\n",
    "for train,test in kf.split(X): # these are arrays of indices\n",
    "    model = linear_model.Lasso(alpha=0.005) \n",
    "    model.fit(X[train],y[train]) #slice out the training folds\n",
    "    p = model.predict(X[test]) #slice out the test fold\n",
    "    accuracies.append(accuracy_score(ylabel[test],p > 0))\n",
    "    fpr, tpr, thresholds = roc_curve(ylabel[test], p)  \n",
    "    rocs.append( (fpr,tpr, roc_auc_score(ylabel[test],p)))"
   ]
  },
  {
   "cell_type": "code",
   "execution_count": 30,
   "metadata": {
    "slideshow": {
     "slide_type": "slide"
    }
   },
   "outputs": [
    {
     "name": "stdout",
     "output_type": "stream",
     "text": [
      "[0.6666666666666666, 0.7948717948717948, 0.6493506493506493, 0.8051948051948052, 0.7402597402597403]\n",
      "Average accuracy: 0.7312687312687312\n"
     ]
    }
   ],
   "source": [
    "print(accuracies)\n",
    "print(\"Average accuracy:\",np.mean(accuracies))"
   ]
  },
  {
   "cell_type": "code",
   "execution_count": 31,
   "metadata": {},
   "outputs": [
    {
     "data": {
      "image/png": "[encoded data removed]",
      "text/plain": [
       "<Figure size 640x480 with 1 Axes>"
      ]
     },
     "metadata": {},
     "output_type": "display_data"
    }
   ],
   "source": [
    "for roc in rocs:\n",
    "    plt.plot(roc[0],roc[1],label=\"AUC %.2f\" %roc[2]); \n",
    "plt.gca().set_aspect('equal')    \n",
    "plt.xlabel(\"FPR\"); plt.ylabel(\"TPR\"); plt.ylim(0,1); plt.xlim(0,1); plt.legend(loc='best'); plt.show()"
   ]
  },
  {
   "cell_type": "markdown",
   "metadata": {
    "slideshow": {
     "slide_type": "slide"
    }
   },
   "source": [
    "# Lasso vs. LinearRegression"
   ]
  },
  {
   "cell_type": "code",
   "execution_count": 32,
   "metadata": {},
   "outputs": [],
   "source": [
    "linmodel = linear_model.LinearRegression() \n",
    "linmodel.fit(X,y) \n",
    "lassomodel = linear_model.Lasso(alpha=0.005) \n",
    "lassomodel.fit(X,y);"
   ]
  },
  {
   "cell_type": "markdown",
   "metadata": {},
   "source": [
    "The Lasso model is much simpler"
   ]
  },
  {
   "cell_type": "code",
   "execution_count": 33,
   "metadata": {},
   "outputs": [
    {
     "name": "stdout",
     "output_type": "stream",
     "text": [
      "Nonzero coefficients in linear: 881\n",
      "Nonzero coefficients in LASSO: 64\n"
     ]
    }
   ],
   "source": [
    "print(\"Nonzero coefficients in linear:\",np.count_nonzero(linmodel.coef_))\n",
    "print(\"Nonzero coefficients in LASSO:\",np.count_nonzero(lassomodel.coef_))"
   ]
  },
  {
   "cell_type": "markdown",
   "metadata": {
    "collapsed": true,
    "slideshow": {
     "slide_type": "slide"
    }
   },
   "source": [
    "# Model Parameter Optimization\n",
    "\n",
    "Most classifiers have parameters, like $\\alpha$ in Lasso, that can be set to change the classification behavior.\n",
    "\n",
    "A key part of training a model is figuring out what parameters to use.\n",
    "\n",
    "This is typically done by a brute-force grid search (i.e., try a bunch of values and see which ones work)"
   ]
  },
  {
   "cell_type": "code",
   "execution_count": 34,
   "metadata": {},
   "outputs": [
    {
     "data": {
      "text/plain": [
       "{'alpha': 0.005}"
      ]
     },
     "execution_count": 34,
     "metadata": {},
     "output_type": "execute_result"
    }
   ],
   "source": [
    "from sklearn import model_selection\n",
    "#setup grid search with default 5-fold CV and scoring\n",
    "searcher = model_selection.GridSearchCV(linear_model.Lasso(max_iter=10000), {'alpha': [0.001,0.005,0.01,0.1]})\n",
    "searcher.fit(X,y)\n",
    "searcher.best_params_"
   ]
  },
  {
   "cell_type": "markdown",
   "metadata": {
    "slideshow": {
     "slide_type": "slide"
    }
   },
   "source": [
    "# Model specific optimization\n",
    "\n",
    "Some classifiers (mostly linear models) can identify optimal parameters more efficiently and have a \"CV\" version that automatically determines the best parameters."
   ]
  },
  {
   "cell_type": "code",
   "execution_count": 35,
   "metadata": {},
   "outputs": [
    {
     "data": {
      "text/html": [
       "<style>#sk-container-id-1 {color: black;background-color: white;}#sk-container-id-1 pre{padding: 0;}#sk-container-id-1 div.sk-toggleable {background-color: white;}#sk-container-id-1 label.sk-toggleable__label {cursor: pointer;display: block;width: 100%;margin-bottom: 0;padding: 0.3em;box-sizing: border-box;text-align: center;}#sk-container-id-1 label.sk-toggleable__label-arrow:before {content: \"▸\";float: left;margin-right: 0.25em;color: #696969;}#sk-container-id-1 label.sk-toggleable__label-arrow:hover:before {color: black;}#sk-container-id-1 div.sk-estimator:hover label.sk-toggleable__label-arrow:before {color: black;}#sk-container-id-1 div.sk-toggleable__content {max-height: 0;max-width: 0;overflow: hidden;text-align: left;background-color: #f0f8ff;}#sk-container-id-1 div.sk-toggleable__content pre {margin: 0.2em;color: black;border-radius: 0.25em;background-color: #f0f8ff;}#sk-container-id-1 input.sk-toggleable__control:checked~div.sk-toggleable__content {max-height: 200px;max-width: 100%;overflow: auto;}#sk-container-id-1 input.sk-toggleable__control:checked~label.sk-toggleable__label-arrow:before {content: \"▾\";}#sk-container-id-1 div.sk-estimator input.sk-toggleable__control:checked~label.sk-toggleable__label {background-color: #d4ebff;}#sk-container-id-1 div.sk-label input.sk-toggleable__control:checked~label.sk-toggleable__label {background-color: #d4ebff;}#sk-container-id-1 input.sk-hidden--visually {border: 0;clip: rect(1px 1px 1px 1px);clip: rect(1px, 1px, 1px, 1px);height: 1px;margin: -1px;overflow: hidden;padding: 0;position: absolute;width: 1px;}#sk-container-id-1 div.sk-estimator {font-family: monospace;background-color: #f0f8ff;border: 1px dotted black;border-radius: 0.25em;box-sizing: border-box;margin-bottom: 0.5em;}#sk-container-id-1 div.sk-estimator:hover {background-color: #d4ebff;}#sk-container-id-1 div.sk-parallel-item::after {content: \"\";width: 100%;border-bottom: 1px solid gray;flex-grow: 1;}#sk-container-id-1 div.sk-label:hover label.sk-toggleable__label {background-color: #d4ebff;}#sk-container-id-1 div.sk-serial::before {content: \"\";position: absolute;border-left: 1px solid gray;box-sizing: border-box;top: 0;bottom: 0;left: 50%;z-index: 0;}#sk-container-id-1 div.sk-serial {display: flex;flex-direction: column;align-items: center;background-color: white;padding-right: 0.2em;padding-left: 0.2em;position: relative;}#sk-container-id-1 div.sk-item {position: relative;z-index: 1;}#sk-container-id-1 div.sk-parallel {display: flex;align-items: stretch;justify-content: center;background-color: white;position: relative;}#sk-container-id-1 div.sk-item::before, #sk-container-id-1 div.sk-parallel-item::before {content: \"\";position: absolute;border-left: 1px solid gray;box-sizing: border-box;top: 0;bottom: 0;left: 50%;z-index: -1;}#sk-container-id-1 div.sk-parallel-item {display: flex;flex-direction: column;z-index: 1;position: relative;background-color: white;}#sk-container-id-1 div.sk-parallel-item:first-child::after {align-self: flex-end;width: 50%;}#sk-container-id-1 div.sk-parallel-item:last-child::after {align-self: flex-start;width: 50%;}#sk-container-id-1 div.sk-parallel-item:only-child::after {width: 0;}#sk-container-id-1 div.sk-dashed-wrapped {border: 1px dashed gray;margin: 0 0.4em 0.5em 0.4em;box-sizing: border-box;padding-bottom: 0.4em;background-color: white;}#sk-container-id-1 div.sk-label label {font-family: monospace;font-weight: bold;display: inline-block;line-height: 1.2em;}#sk-container-id-1 div.sk-label-container {text-align: center;}#sk-container-id-1 div.sk-container {/* jupyter's `normalize.less` sets `[hidden] { display: none; }` but bootstrap.min.css set `[hidden] { display: none !important; }` so we also need the `!important` here to be able to override the default hidden behavior on the sphinx rendered scikit-learn.org. See: https://github.com/scikit-learn/scikit-learn/issues/21755 */display: inline-block !important;position: relative;}#sk-container-id-1 div.sk-text-repr-fallback {display: none;}</style><div id=\"sk-container-id-1\" class=\"sk-top-container\"><div class=\"sk-text-repr-fallback\"><pre>LassoCV(max_iter=10000, n_jobs=8)</pre><b>In a Jupyter environment, please rerun this cell to show the HTML representation or trust the notebook. <br />On GitHub, the HTML representation is unable to render, please try loading this page with nbviewer.org.</b></div><div class=\"sk-container\" hidden><div class=\"sk-item\"><div class=\"sk-estimator sk-toggleable\"><input class=\"sk-toggleable__control sk-hidden--visually\" id=\"sk-estimator-id-1\" type=\"checkbox\" checked><label for=\"sk-estimator-id-1\" class=\"sk-toggleable__label sk-toggleable__label-arrow\">LassoCV</label><div class=\"sk-toggleable__content\"><pre>LassoCV(max_iter=10000, n_jobs=8)</pre></div></div></div></div></div>"
      ],
      "text/plain": [
       "LassoCV(max_iter=10000, n_jobs=8)"
      ]
     },
     "execution_count": 35,
     "metadata": {},
     "output_type": "execute_result"
    }
   ],
   "source": [
    "lassomodel = linear_model.LassoCV(n_jobs=8,max_iter=10000)\n",
    "lassomodel.fit(X,y)"
   ]
  },
  {
   "cell_type": "code",
   "execution_count": 36,
   "metadata": {},
   "outputs": [
    {
     "data": {
      "text/plain": [
       "0.0045520394784971056"
      ]
     },
     "execution_count": 36,
     "metadata": {},
     "output_type": "execute_result"
    }
   ],
   "source": [
    "lassomodel.alpha_"
   ]
  },
  {
   "cell_type": "markdown",
   "metadata": {
    "collapsed": true,
    "slideshow": {
     "slide_type": "slide"
    }
   },
   "source": [
    "# Support Vector Machine (SVM)\n",
    "\n",
    "A support vector machine is orthogonal to a linear model - it attempts to find a plane that *separates* the classes of data with the maximum *margin*.\n",
    "\n",
    "<img  src=\"http://docs.opencv.org/2.4/_images/optimal-hyperplane.png\">\n",
    "\n",
    "There are two key parameters in an SVM: the kernel and the penalty term (and some kernels may have additional parameters)."
   ]
  },
  {
   "cell_type": "markdown",
   "metadata": {
    "slideshow": {
     "slide_type": "slide"
    }
   },
   "source": [
    "# SVM Kernels\n",
    "\n",
    "A kernel function, $\\phi$, is a transformation of the input data that let's us apply SVM (linear separation) to problems that are not linearly separable.\n",
    "\n",
    "<img src=\"http://upload.wikimedia.org/wikipedia/commons/1/1b/Kernel_Machine.png\">"
   ]
  },
  {
   "cell_type": "markdown",
   "metadata": {
    "slideshow": {
     "slide_type": "slide"
    }
   },
   "source": [
    "<img src=\"https://scikit-learn.org/0.18/_images/sphx_glr_plot_iris_001.png\">"
   ]
  },
  {
   "cell_type": "markdown",
   "metadata": {
    "slideshow": {
     "slide_type": "slide"
    }
   },
   "source": [
    "# Training SVM\n",
    "\n",
    "We can get both the *predictions* (0 or 1) from the SVM as well as *probabilities*, a confidence in how accurate the predictions are.  We use the probabilities to compute the ROC curve."
   ]
  },
  {
   "cell_type": "code",
   "execution_count": 37,
   "metadata": {
    "slideshow": {
     "slide_type": "-"
    }
   },
   "outputs": [],
   "source": [
    "from sklearn import svm\n",
    "kf = KFold(n_splits=5)\n",
    "accuracies = []; rocs = []\n",
    "for train,test in kf.split(X): # these are arrays of indices\n",
    "    model = svm.SVC(probability=True) \n",
    "    model.fit(X[train],ylabel[train]) #slice out the training folds\n",
    "    p = model.predict(X[test]) # prediction (0 or 1)\n",
    "    probs = model.predict_proba(X[test])[:,1] #probability of being 1\n",
    "    accuracies.append(accuracy_score(ylabel[test],p))\n",
    "    fpr, tpr, thresholds = roc_curve(ylabel[test], probs)  \n",
    "    rocs.append( (fpr,tpr, roc_auc_score(ylabel[test],probs)))"
   ]
  },
  {
   "cell_type": "markdown",
   "metadata": {
    "slideshow": {
     "slide_type": "slide"
    }
   },
   "source": [
    "# Training SVM"
   ]
  },
  {
   "cell_type": "code",
   "execution_count": 38,
   "metadata": {},
   "outputs": [
    {
     "name": "stdout",
     "output_type": "stream",
     "text": [
      "[0.6923076923076923, 0.7307692307692307, 0.6883116883116883, 0.7922077922077922, 0.6753246753246753]\n",
      "Average accuracy: 0.7157842157842158\n"
     ]
    }
   ],
   "source": [
    "print(accuracies)\n",
    "print(\"Average accuracy:\",np.mean(accuracies))"
   ]
  },
  {
   "cell_type": "code",
   "execution_count": 39,
   "metadata": {},
   "outputs": [
    {
     "data": {
      "image/png": "[encoded data removed]",
      "text/plain": [
       "<Figure size 640x480 with 1 Axes>"
      ]
     },
     "metadata": {},
     "output_type": "display_data"
    }
   ],
   "source": [
    "for roc in rocs:\n",
    "    plt.plot(roc[0],roc[1],label=\"AUC %.2f\" %roc[2]); \n",
    "plt.gca().set_aspect('equal')\n",
    "plt.xlabel(\"FPR\"); plt.ylabel(\"TPR\"); plt.ylim(0,1); plt.xlim(0,1); plt.legend(loc='best'); plt.show()"
   ]
  },
  {
   "cell_type": "markdown",
   "metadata": {
    "slideshow": {
     "slide_type": "slide"
    }
   },
   "source": [
    "# Training SVM"
   ]
  },
  {
   "cell_type": "code",
   "execution_count": 40,
   "metadata": {
    "slideshow": {
     "slide_type": "-"
    }
   },
   "outputs": [
    {
     "data": {
      "text/html": [
       "<style>#sk-container-id-2 {color: black;background-color: white;}#sk-container-id-2 pre{padding: 0;}#sk-container-id-2 div.sk-toggleable {background-color: white;}#sk-container-id-2 label.sk-toggleable__label {cursor: pointer;display: block;width: 100%;margin-bottom: 0;padding: 0.3em;box-sizing: border-box;text-align: center;}#sk-container-id-2 label.sk-toggleable__label-arrow:before {content: \"▸\";float: left;margin-right: 0.25em;color: #696969;}#sk-container-id-2 label.sk-toggleable__label-arrow:hover:before {color: black;}#sk-container-id-2 div.sk-estimator:hover label.sk-toggleable__label-arrow:before {color: black;}#sk-container-id-2 div.sk-toggleable__content {max-height: 0;max-width: 0;overflow: hidden;text-align: left;background-color: #f0f8ff;}#sk-container-id-2 div.sk-toggleable__content pre {margin: 0.2em;color: black;border-radius: 0.25em;background-color: #f0f8ff;}#sk-container-id-2 input.sk-toggleable__control:checked~div.sk-toggleable__content {max-height: 200px;max-width: 100%;overflow: auto;}#sk-container-id-2 input.sk-toggleable__control:checked~label.sk-toggleable__label-arrow:before {content: \"▾\";}#sk-container-id-2 div.sk-estimator input.sk-toggleable__control:checked~label.sk-toggleable__label {background-color: #d4ebff;}#sk-container-id-2 div.sk-label input.sk-toggleable__control:checked~label.sk-toggleable__label {background-color: #d4ebff;}#sk-container-id-2 input.sk-hidden--visually {border: 0;clip: rect(1px 1px 1px 1px);clip: rect(1px, 1px, 1px, 1px);height: 1px;margin: -1px;overflow: hidden;padding: 0;position: absolute;width: 1px;}#sk-container-id-2 div.sk-estimator {font-family: monospace;background-color: #f0f8ff;border: 1px dotted black;border-radius: 0.25em;box-sizing: border-box;margin-bottom: 0.5em;}#sk-container-id-2 div.sk-estimator:hover {background-color: #d4ebff;}#sk-container-id-2 div.sk-parallel-item::after {content: \"\";width: 100%;border-bottom: 1px solid gray;flex-grow: 1;}#sk-container-id-2 div.sk-label:hover label.sk-toggleable__label {background-color: #d4ebff;}#sk-container-id-2 div.sk-serial::before {content: \"\";position: absolute;border-left: 1px solid gray;box-sizing: border-box;top: 0;bottom: 0;left: 50%;z-index: 0;}#sk-container-id-2 div.sk-serial {display: flex;flex-direction: column;align-items: center;background-color: white;padding-right: 0.2em;padding-left: 0.2em;position: relative;}#sk-container-id-2 div.sk-item {position: relative;z-index: 1;}#sk-container-id-2 div.sk-parallel {display: flex;align-items: stretch;justify-content: center;background-color: white;position: relative;}#sk-container-id-2 div.sk-item::before, #sk-container-id-2 div.sk-parallel-item::before {content: \"\";position: absolute;border-left: 1px solid gray;box-sizing: border-box;top: 0;bottom: 0;left: 50%;z-index: -1;}#sk-container-id-2 div.sk-parallel-item {display: flex;flex-direction: column;z-index: 1;position: relative;background-color: white;}#sk-container-id-2 div.sk-parallel-item:first-child::after {align-self: flex-end;width: 50%;}#sk-container-id-2 div.sk-parallel-item:last-child::after {align-self: flex-start;width: 50%;}#sk-container-id-2 div.sk-parallel-item:only-child::after {width: 0;}#sk-container-id-2 div.sk-dashed-wrapped {border: 1px dashed gray;margin: 0 0.4em 0.5em 0.4em;box-sizing: border-box;padding-bottom: 0.4em;background-color: white;}#sk-container-id-2 div.sk-label label {font-family: monospace;font-weight: bold;display: inline-block;line-height: 1.2em;}#sk-container-id-2 div.sk-label-container {text-align: center;}#sk-container-id-2 div.sk-container {/* jupyter's `normalize.less` sets `[hidden] { display: none; }` but bootstrap.min.css set `[hidden] { display: none !important; }` so we also need the `!important` here to be able to override the default hidden behavior on the sphinx rendered scikit-learn.org. See: https://github.com/scikit-learn/scikit-learn/issues/21755 */display: inline-block !important;position: relative;}#sk-container-id-2 div.sk-text-repr-fallback {display: none;}</style><div id=\"sk-container-id-2\" class=\"sk-top-container\"><div class=\"sk-text-repr-fallback\"><pre>GridSearchCV(estimator=SVC(), n_jobs=-1,\n",
       "             param_grid={&#x27;C&#x27;: [1, 10, 100, 1000], &#x27;kernel&#x27;: [&#x27;linear&#x27;, &#x27;rbf&#x27;]},\n",
       "             scoring=&#x27;roc_auc&#x27;)</pre><b>In a Jupyter environment, please rerun this cell to show the HTML representation or trust the notebook. <br />On GitHub, the HTML representation is unable to render, please try loading this page with nbviewer.org.</b></div><div class=\"sk-container\" hidden><div class=\"sk-item sk-dashed-wrapped\"><div class=\"sk-label-container\"><div class=\"sk-label sk-toggleable\"><input class=\"sk-toggleable__control sk-hidden--visually\" id=\"sk-estimator-id-2\" type=\"checkbox\" ><label for=\"sk-estimator-id-2\" class=\"sk-toggleable__label sk-toggleable__label-arrow\">GridSearchCV</label><div class=\"sk-toggleable__content\"><pre>GridSearchCV(estimator=SVC(), n_jobs=-1,\n",
       "             param_grid={&#x27;C&#x27;: [1, 10, 100, 1000], &#x27;kernel&#x27;: [&#x27;linear&#x27;, &#x27;rbf&#x27;]},\n",
       "             scoring=&#x27;roc_auc&#x27;)</pre></div></div></div><div class=\"sk-parallel\"><div class=\"sk-parallel-item\"><div class=\"sk-item\"><div class=\"sk-label-container\"><div class=\"sk-label sk-toggleable\"><input class=\"sk-toggleable__control sk-hidden--visually\" id=\"sk-estimator-id-3\" type=\"checkbox\" ><label for=\"sk-estimator-id-3\" class=\"sk-toggleable__label sk-toggleable__label-arrow\">estimator: SVC</label><div class=\"sk-toggleable__content\"><pre>SVC()</pre></div></div></div><div class=\"sk-serial\"><div class=\"sk-item\"><div class=\"sk-estimator sk-toggleable\"><input class=\"sk-toggleable__control sk-hidden--visually\" id=\"sk-estimator-id-4\" type=\"checkbox\" ><label for=\"sk-estimator-id-4\" class=\"sk-toggleable__label sk-toggleable__label-arrow\">SVC</label><div class=\"sk-toggleable__content\"><pre>SVC()</pre></div></div></div></div></div></div></div></div></div></div>"
      ],
      "text/plain": [
       "GridSearchCV(estimator=SVC(), n_jobs=-1,\n",
       "             param_grid={'C': [1, 10, 100, 1000], 'kernel': ['linear', 'rbf']},\n",
       "             scoring='roc_auc')"
      ]
     },
     "execution_count": 40,
     "metadata": {},
     "output_type": "execute_result"
    }
   ],
   "source": [
    "from sklearn import model_selection\n",
    "searcher = model_selection.GridSearchCV(svm.SVC(), {'kernel': ['linear','rbf'],'C': [1,10,100,1000]},scoring='roc_auc',n_jobs=-1)\n",
    "searcher.fit(X,ylabel)"
   ]
  },
  {
   "cell_type": "code",
   "execution_count": 41,
   "metadata": {},
   "outputs": [
    {
     "name": "stdout",
     "output_type": "stream",
     "text": [
      "Best AUC: 0.8149612403100776\n",
      "Parameters {'C': 10, 'kernel': 'rbf'}\n"
     ]
    }
   ],
   "source": [
    "print(\"Best AUC:\",searcher.best_score_)\n",
    "print(\"Parameters\",searcher.best_params_)"
   ]
  },
  {
   "cell_type": "markdown",
   "metadata": {
    "slideshow": {
     "slide_type": "slide"
    }
   },
   "source": [
    "# Nearest Neighbors (NN)\n",
    "\n",
    "Nearest Neighbors models classify new points based on the values of the closest points in the training set.\n",
    "\n",
    "<img width=\"400\" src=\"http://scikit-learn.org/stable/_images/sphx_glr_plot_classification_001.png\">\n",
    "\n",
    "The main parameter is $k$, the number of neighbors to consider, and the method of combining the neighbor results."
   ]
  },
  {
   "cell_type": "markdown",
   "metadata": {
    "slideshow": {
     "slide_type": "slide"
    }
   },
   "source": [
    "# Training NN"
   ]
  },
  {
   "cell_type": "code",
   "execution_count": 42,
   "metadata": {},
   "outputs": [],
   "source": [
    "from sklearn import neighbors\n",
    "kf = KFold(n_splits=5)\n",
    "accuracies = []; rocs = []\n",
    "for train,test in kf.split(X): # these are arrays of indices\n",
    "    model = neighbors.KNeighborsClassifier() # defaults to k=5\n",
    "    model.fit(X[train],ylabel[train]) #slice out the training folds\n",
    "    p = model.predict(X[test]) # prediction (0 or 1)\n",
    "    probs = model.predict_proba(X[test])[:,1] #probability of being 1\n",
    "    accuracies.append(accuracy_score(ylabel[test],p))\n",
    "    fpr, tpr, thresholds = roc_curve(ylabel[test], probs)  \n",
    "    rocs.append( (fpr,tpr, roc_auc_score(ylabel[test],probs)))"
   ]
  },
  {
   "cell_type": "markdown",
   "metadata": {
    "slideshow": {
     "slide_type": "slide"
    }
   },
   "source": [
    "# Training NN"
   ]
  },
  {
   "cell_type": "code",
   "execution_count": 43,
   "metadata": {},
   "outputs": [
    {
     "name": "stdout",
     "output_type": "stream",
     "text": [
      "[0.7307692307692307, 0.6923076923076923, 0.7532467532467533, 0.7272727272727273, 0.7662337662337663]\n",
      "Average accuracy: 0.733966033966034\n"
     ]
    }
   ],
   "source": [
    "print(accuracies)\n",
    "print(\"Average accuracy:\",np.mean(accuracies))"
   ]
  },
  {
   "cell_type": "code",
   "execution_count": 44,
   "metadata": {},
   "outputs": [
    {
     "data": {
      "image/png": "[encoded data removed]",
      "text/plain": [
       "<Figure size 640x480 with 1 Axes>"
      ]
     },
     "metadata": {},
     "output_type": "display_data"
    }
   ],
   "source": [
    "for roc in rocs:\n",
    "    plt.plot(roc[0],roc[1],label=\"AUC %.2f\" %roc[2]); \n",
    "plt.gca().set_aspect('equal')    \n",
    "plt.xlabel(\"FPR\"); plt.ylabel(\"TPR\"); plt.ylim(0,1); plt.xlim(0,1); plt.legend(loc='best'); plt.show()"
   ]
  },
  {
   "cell_type": "code",
   "execution_count": 45,
   "metadata": {
    "slideshow": {
     "slide_type": "slide"
    }
   },
   "outputs": [
    {
     "data": {
      "text/html": [
       "<div id=\"knnq\" style=\"width: 500px\"></div>\n",
       "<script>\n",
       "    var divid = '#knnq';\n",
       "\tjQuery(divid).asker({\n",
       "\t    id: divid,\n",
       "\t    question: \"What could <b>not</b> be a valid probability from the previous k-nn (k=5) model?\",\n",
       "        answers: ['0','.5','.6','1'],\n",
       "        server: \"https://bits.csb.pitt.edu/asker.js/example/asker.cgi\",\n",
       "\t\tcharter: chartmaker})\n",
       "    \n",
       "$(\".jp-InputArea .o:contains(html)\").closest('.jp-InputArea').hide();\n",
       "\n",
       "\n",
       "</script>\n"
      ],
      "text/plain": [
       "<IPython.core.display.HTML object>"
      ]
     },
     "metadata": {},
     "output_type": "display_data"
    }
   ],
   "source": [
    "%%html\n",
    "<div id=\"knnq\" style=\"width: 500px\"></div>\n",
    "<script>\n",
    "    var divid = '#knnq';\n",
    "\tjQuery(divid).asker({\n",
    "\t    id: divid,\n",
    "\t    question: \"What could <b>not</b> be a valid probability from the previous k-nn (k=5) model?\",\n",
    "        answers: ['0','.5','.6','1'],\n",
    "        server: \"https://bits.csb.pitt.edu/asker.js/example/asker.cgi\",\n",
    "\t\tcharter: chartmaker})\n",
    "    \n",
    "$(\".jp-InputArea .o:contains(html)\").closest('.jp-InputArea').hide();\n",
    "\n",
    "\n",
    "</script>"
   ]
  },
  {
   "cell_type": "markdown",
   "metadata": {
    "slideshow": {
     "slide_type": "slide"
    }
   },
   "source": [
    "# Training NN"
   ]
  },
  {
   "cell_type": "code",
   "execution_count": 46,
   "metadata": {},
   "outputs": [],
   "source": [
    "searcher = model_selection.GridSearchCV(neighbors.KNeighborsClassifier(), \\\n",
    "                {'n_neighbors': [1,2,3,4,5,10]},scoring='roc_auc',n_jobs=-1)\n",
    "searcher.fit(X,ylabel);"
   ]
  },
  {
   "cell_type": "code",
   "execution_count": 47,
   "metadata": {},
   "outputs": [
    {
     "name": "stdout",
     "output_type": "stream",
     "text": [
      "Best AUC: 0.8024758740705586\n",
      "Parameters {'n_neighbors': 5}\n"
     ]
    }
   ],
   "source": [
    "print(\"Best AUC:\",searcher.best_score_)\n",
    "print(\"Parameters\",searcher.best_params_)"
   ]
  },
  {
   "cell_type": "markdown",
   "metadata": {
    "slideshow": {
     "slide_type": "slide"
    }
   },
   "source": [
    "# Decision Trees\n",
    "\n",
    "A decision tree is a tree where each node make a decision based on the value of a single feature.  At the bottom of the tree is the classification that results from all those decisions.\n",
    "\n",
    "<img width=\"500px\" src=\"http://www.massgenomics.org/wp-content/uploads/2008/10/decision_tree_model.png\">\n",
    "\n",
    "Significant model parameters include the depth of the tree and how features and splits are determined."
   ]
  },
  {
   "cell_type": "code",
   "execution_count": 48,
   "metadata": {
    "slideshow": {
     "slide_type": "slide"
    }
   },
   "outputs": [
    {
     "data": {
      "text/html": [
       "<div id=\"dtqml\" style=\"width: 500px\"></div>\n",
       "<script>\n",
       "    var divid = '#dtqml';\n",
       "\tjQuery(divid).asker({\n",
       "\t    id: divid,\n",
       "\t    question: \"Humidity is low, it's windy, and it is sunny. What do you do?\",\n",
       "\t\tanswers: [\"Play\",\"Don't Play\"],\n",
       "        server: \"https://bits.csb.pitt.edu/asker.js/example/asker.cgi\",\n",
       "\t\tcharter: chartmaker})\n",
       "    \n",
       "$(\".jp-InputArea .o:contains(html)\").closest('.jp-InputArea').hide();\n",
       "</script>\n"
      ],
      "text/plain": [
       "<IPython.core.display.HTML object>"
      ]
     },
     "metadata": {},
     "output_type": "display_data"
    }
   ],
   "source": [
    "%%html\n",
    "<div id=\"dtqml\" style=\"width: 500px\"></div>\n",
    "<script>\n",
    "    var divid = '#dtqml';\n",
    "\tjQuery(divid).asker({\n",
    "\t    id: divid,\n",
    "\t    question: \"Humidity is low, it's windy, and it is sunny. What do you do?\",\n",
    "\t\tanswers: [\"Play\",\"Don't Play\"],\n",
    "        server: \"https://bits.csb.pitt.edu/asker.js/example/asker.cgi\",\n",
    "\t\tcharter: chartmaker})\n",
    "    \n",
    "$(\".jp-InputArea .o:contains(html)\").closest('.jp-InputArea').hide();\n",
    "</script>"
   ]
  },
  {
   "cell_type": "markdown",
   "metadata": {
    "slideshow": {
     "slide_type": "slide"
    }
   },
   "source": [
    "# Random Forest\n",
    "\n",
    "A bunch of decision trees trained on different sub-samples of the data.\n",
    "\n",
    "They vote (or are averaged)."
   ]
  },
  {
   "cell_type": "markdown",
   "metadata": {
    "slideshow": {
     "slide_type": "slide"
    }
   },
   "source": [
    "# Training a Decision Tree"
   ]
  },
  {
   "cell_type": "code",
   "execution_count": 39,
   "metadata": {},
   "outputs": [],
   "source": [
    "from sklearn import tree\n",
    "kf = KFold(n_splits=5)\n",
    "accuracies = []; rocs = []\n",
    "for train,test in kf.split(X): # these are arrays of indices\n",
    "    model = tree.DecisionTreeClassifier() \n",
    "    model.fit(X[train],ylabel[train]) #slice out the training folds\n",
    "    p = model.predict(X[test]) # prediction (0 or 1)\n",
    "    probs = model.predict_proba(X[test])[:,1] #probability of being 1\n",
    "    accuracies.append(accuracy_score(ylabel[test],p))\n",
    "    fpr, tpr, thresholds = roc_curve(ylabel[test], probs)  \n",
    "    rocs.append( (fpr,tpr, roc_auc_score(ylabel[test],probs)))"
   ]
  },
  {
   "cell_type": "markdown",
   "metadata": {
    "slideshow": {
     "slide_type": "slide"
    }
   },
   "source": [
    "# Training a Decision Tree"
   ]
  },
  {
   "cell_type": "code",
   "execution_count": 41,
   "metadata": {},
   "outputs": [
    {
     "name": "stdout",
     "output_type": "stream",
     "text": [
      "[0.7435897435897436, 0.717948717948718, 0.6753246753246753, 0.7272727272727273, 0.7142857142857143]\n",
      "Average accuracy: 0.7156843156843158\n"
     ]
    }
   ],
   "source": [
    "print(accuracies)\n",
    "print(\"Average accuracy:\",np.mean(accuracies))"
   ]
  },
  {
   "cell_type": "code",
   "execution_count": 42,
   "metadata": {},
   "outputs": [
    {
     "data": {
      "image/png": "[encoded data removed]",
      "text/plain": [
       "<Figure size 432x288 with 1 Axes>"
      ]
     },
     "metadata": {
      "needs_background": "light"
     },
     "output_type": "display_data"
    }
   ],
   "source": [
    "for roc in rocs:\n",
    "    plt.plot(roc[0],roc[1],label=\"AUC %.2f\" %roc[2]); \n",
    "plt.gca().set_aspect('equal')    \n",
    "plt.xlabel(\"FPR\"); plt.ylabel(\"TPR\"); plt.ylim(0,1); plt.xlim(0,1); plt.legend(loc='best'); plt.show()"
   ]
  },
  {
   "cell_type": "code",
   "execution_count": 52,
   "metadata": {},
   "outputs": [
    {
     "data": {
      "text/plain": [
       "{0.0, 0.5, 1.0}"
      ]
     },
     "execution_count": 52,
     "metadata": {},
     "output_type": "execute_result"
    }
   ],
   "source": [
    "set(probs)"
   ]
  },
  {
   "cell_type": "markdown",
   "metadata": {
    "slideshow": {
     "slide_type": "slide"
    }
   },
   "source": [
    "# Training a Decision Tree"
   ]
  },
  {
   "cell_type": "code",
   "execution_count": 53,
   "metadata": {},
   "outputs": [],
   "source": [
    "searcher = model_selection.GridSearchCV(tree.DecisionTreeClassifier(),  \\\n",
    "                {'max_depth': [1,2,3,4,5,10]},scoring='roc_auc',n_jobs=-1)\n",
    "searcher.fit(X,ylabel);"
   ]
  },
  {
   "cell_type": "code",
   "execution_count": 54,
   "metadata": {},
   "outputs": [
    {
     "name": "stdout",
     "output_type": "stream",
     "text": [
      "Best AUC: 0.7580414491377947\n",
      "Parameters {'max_depth': 5}\n"
     ]
    }
   ],
   "source": [
    "print(\"Best AUC:\",searcher.best_score_)\n",
    "print(\"Parameters\",searcher.best_params_)"
   ]
  },
  {
   "cell_type": "code",
   "execution_count": 55,
   "metadata": {},
   "outputs": [
    {
     "data": {
      "text/plain": [
       "{0.0,\n",
       " 0.046153846153846156,\n",
       " 0.15217391304347827,\n",
       " 0.2391304347826087,\n",
       " 0.5,\n",
       " 0.6666666666666666,\n",
       " 1.0}"
      ]
     },
     "execution_count": 55,
     "metadata": {},
     "output_type": "execute_result"
    }
   ],
   "source": [
    "model = tree.DecisionTreeClassifier(max_depth=5).fit(X,ylabel)\n",
    "set(model.predict_proba(X)[:,1])"
   ]
  },
  {
   "cell_type": "markdown",
   "metadata": {
    "slideshow": {
     "slide_type": "slide"
    }
   },
   "source": [
    "# Regression\n",
    "\n",
    "Regression in `sklearn` is pretty much the same as classification, but you use a score appropriate for regression (e.g., squared error or correlation)."
   ]
  },
  {
   "cell_type": "markdown",
   "metadata": {
    "slideshow": {
     "slide_type": "slide"
    }
   },
   "source": [
    "# Key Points\n",
    "\n",
    " * **Must cross-validate** or otherwise evaluate model on unseen data\n",
    " * Need to parameterize model\n",
    " * Once parameterized, train on full dataset\n",
    " \n",
    "### Which method works best?\n",
    "\n",
    "The one that provides the best predictive power with your data."
   ]
  },
  {
   "cell_type": "markdown",
   "metadata": {
    "slideshow": {
     "slide_type": "slide"
    }
   },
   "source": [
    "# Project\n",
    "\n",
    "Pick a model and train it to predict the actual y values (regression) of our er.smi dataset."
   ]
  },
  {
   "cell_type": "code",
   "execution_count": 56,
   "metadata": {},
   "outputs": [
    {
     "name": "stdout",
     "output_type": "stream",
     "text": [
      "--2023-10-30 20:29:41--  http://mscbio2025.csb.pitt.edu/files/er.smi\r\n",
      "Resolving mscbio2025.csb.pitt.edu (mscbio2025.csb.pitt.edu)... 136.142.4.139\r\n",
      "Connecting to mscbio2025.csb.pitt.edu (mscbio2025.csb.pitt.edu)|136.142.4.139|:80... connected.\r\n",
      "HTTP request sent, awaiting response... 200 OK\r\n",
      "Length: 20022 (20K) [application/smil+xml]\r\n",
      "Saving to: ‘er.smi.2’\r\n",
      "\r\n",
      "\r",
      "er.smi.2              0%[                    ]       0  --.-KB/s               \r",
      "er.smi.2            100%[===================>]  19.55K  --.-KB/s    in 0s      \r\n",
      "\r\n",
      "2023-10-30 20:29:41 (41.0 MB/s) - ‘er.smi.2’ saved [20022/20022]\r\n",
      "\r\n"
     ]
    }
   ],
   "source": [
    "!wget http://mscbio2025.csb.pitt.edu/files/er.smi\n",
    "\n",
    "from openbabel import pybel\n",
    "yvals = []\n",
    "fps = []\n",
    "for mol in pybel.readfile('smi','er.smi'):\n",
    "    yvals.append(float(mol.title))\n",
    "    fpbits = mol.calcfp().bits\n",
    "    fp = np.zeros(1024)\n",
    "    fp[fpbits] = 1\n",
    "    fps.append(fp)\n",
    "    \n",
    "X = np.array(fps)\n",
    "y = np.array(yvals)"
   ]
  },
  {
   "cell_type": "code",
   "execution_count": 57,
   "metadata": {
    "slideshow": {
     "slide_type": "notes"
    }
   },
   "outputs": [],
   "source": [
    "from sklearn.model_selection import KFold\n",
    "from sklearn.metrics import *\n",
    "from sklearn import ensemble\n",
    "kf = KFold(n_splits=5)\n",
    "errors = []\n",
    "predictions = []\n",
    "for train,test in kf.split(X): # these are arrays of indices\n",
    "    model = sklearn.ensemble.RandomForestRegressor() \n",
    "    model.fit(X[train],y[train]) #slice out the training folds\n",
    "    p = model.predict(X[test]) # prediction (0 or 1)\n",
    "    predictions += zip(y[test],p)\n",
    "    errors.append(mean_squared_error(y[test],p))\n",
    "predictions = np.array(predictions)"
   ]
  },
  {
   "cell_type": "code",
   "execution_count": 58,
   "metadata": {
    "slideshow": {
     "slide_type": "notes"
    }
   },
   "outputs": [
    {
     "name": "stdout",
     "output_type": "stream",
     "text": [
      "[0.2941807667340254, 0.3567487151063835, 0.19864288026362262, 0.3638722668982609, 0.209028520490121]\n",
      "Average squared error 0.2844946298984827\n"
     ]
    }
   ],
   "source": [
    "print(errors)\n",
    "print(\"Average squared error\",np.mean(errors))"
   ]
  },
  {
   "cell_type": "code",
   "execution_count": 60,
   "metadata": {
    "scrolled": true,
    "slideshow": {
     "slide_type": "notes"
    }
   },
   "outputs": [
    {
     "data": {
      "text/plain": [
       "0.9037840225075521"
      ]
     },
     "execution_count": 60,
     "metadata": {},
     "output_type": "execute_result"
    },
    {
     "data": {
      "image/png": "[encoded data removed]",
      "text/plain": [
       "<Figure size 600x600 with 3 Axes>"
      ]
     },
     "metadata": {},
     "output_type": "display_data"
    }
   ],
   "source": [
    "import seaborn as sns\n",
    "sns.jointplot(x=predictions[:,0],y=predictions[:,1])\n",
    "plt.xlabel(\"Experiment\"); plt.ylabel(\"Predicted\")\n",
    "np.corrcoef(predictions[:,0],predictions[:,1])[0][1]"
   ]
  }
 ],
 "metadata": {
  "celltoolbar": "Slideshow",
  "kernelspec": {
   "display_name": "Python 3 (ipykernel)",
   "language": "python",
   "name": "python3"
  },
  "language_info": {
   "codemirror_mode": {
    "name": "ipython",
    "version": 3
   },
   "file_extension": ".py",
   "mimetype": "text/x-python",
   "name": "python",
   "nbconvert_exporter": "python",
   "pygments_lexer": "ipython3",
   "version": "3.8.13"
  }
 },
 "nbformat": 4,
 "nbformat_minor": 1
}
