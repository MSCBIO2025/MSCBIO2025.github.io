{
 "cells": [
  {
   "cell_type": "markdown",
   "metadata": {
    "slideshow": {
     "slide_type": "slide"
    }
   },
   "source": [
    "# Python continued / matplotlib\n",
    "## 09/07/2022\n",
    "\n",
    "<a href=\"?print-pdf\">print view</a><br>\n",
    "<a href=\"pyandplot.ipynb\">notebook</a>"
   ]
  },
  {
   "cell_type": "code",
   "execution_count": 1,
   "metadata": {
    "slideshow": {
     "slide_type": "-"
    }
   },
   "outputs": [
    {
     "data": {
      "text/html": [
       "<script src=\"https://requirejs.org/docs/release/2.3.6/minified/require.js\"></script>\n",
       "<script src=\"https://code.jquery.com/jquery-3.7.1.min.js\"></script>\n",
       "<script src=\"https://bits.csb.pitt.edu/asker.js/lib/asker.js\"></script>\n",
       "<style>\n",
       ".reveal pre { font-size: 100%; overflow-x: auto; overflow-y: auto;}\n",
       ".reveal h1 { font-size: 2em}\n",
       ".reveal ol {display: block;}\n",
       ".reveal ul {display: block;}\n",
       ".reveal .slides>section>section.present { max-height: 100%; overflow-y: auto;}\n",
       "\n",
       ".jp-OutputArea-output { padding: 0; }\n",
       "</style>\n",
       "\n",
       "\n",
       "<script>\n",
       "console.log(jQuery.asker);\n",
       "$3Dmolpromise = new Promise((resolve, reject) => { \n",
       "    require(['https://3Dmol.org/build/3Dmol.js'], function(){       \n",
       "            resolve();});\n",
       "});\n",
       "require(['https://cdnjs.cloudflare.com/ajax/libs/Chart.js/2.2.2/Chart.js'], function(Ch){\n",
       " Chart = Ch;\n",
       "});\n",
       "\n",
       "$('head').append('<link rel=\"stylesheet\" href=\"https://bits.csb.pitt.edu/asker.js/themes/asker.default.css\" />');\n",
       "\n",
       "\n",
       "//the callback is provided a canvas object and data \n",
       "var chartmaker = function(canvas, labels, data) {\n",
       "  var ctx = $(canvas).get(0).getContext(\"2d\");\n",
       "     var dataset = {labels: labels,                     \n",
       "    datasets:[{\n",
       "     data: data,\n",
       "     backgroundColor: \"rgba(150,64,150,0.5)\",\n",
       "         fillColor: \"rgba(150,64,150,0.8)\",    \n",
       "  }]};\n",
       "  var myBarChart = new Chart(ctx,{type:'bar',data:dataset,options:{legend: {display:false},\n",
       "        scales: {\n",
       "            yAxes: [{\n",
       "                ticks: {\n",
       "                    min: 0,\n",
       "                }\n",
       "            }]}}});\n",
       "};\n",
       "\n",
       "$(\".jp-InputArea .o:contains(html)\").closest('.jp-InputArea').hide();\n",
       "\n",
       "\n",
       "</script>\n"
      ],
      "text/plain": [
       "<IPython.core.display.HTML object>"
      ]
     },
     "metadata": {},
     "output_type": "display_data"
    }
   ],
   "source": [
    "%%html\n",
    "<script src=\"https://requirejs.org/docs/release/2.3.6/minified/require.js\"></script>\n",
    "<script src=\"https://code.jquery.com/jquery-3.7.1.min.js\"></script>\n",
    "<script src=\"https://bits.csb.pitt.edu/asker.js/lib/asker.js\"></script>\n",
    "<style>\n",
    ".reveal pre { font-size: 100%; overflow-x: auto; overflow-y: auto;}\n",
    ".reveal h1 { font-size: 2em}\n",
    ".reveal ol {display: block;}\n",
    ".reveal ul {display: block;}\n",
    ".reveal .slides>section>section.present { max-height: 100%; overflow-y: auto;}\n",
    "\n",
    ".jp-OutputArea-output { padding: 0; }\n",
    "</style>\n",
    "\n",
    "\n",
    "<script>\n",
    "console.log(jQuery.asker);\n",
    "$3Dmolpromise = new Promise((resolve, reject) => { \n",
    "    require(['https://3Dmol.org/build/3Dmol.js'], function(){       \n",
    "            resolve();});\n",
    "});\n",
    "require(['https://cdnjs.cloudflare.com/ajax/libs/Chart.js/2.2.2/Chart.js'], function(Ch){\n",
    " Chart = Ch;\n",
    "});\n",
    "\n",
    "$('head').append('<link rel=\"stylesheet\" href=\"https://bits.csb.pitt.edu/asker.js/themes/asker.default.css\" />');\n",
    "\n",
    "\n",
    "//the callback is provided a canvas object and data \n",
    "var chartmaker = function(canvas, labels, data) {\n",
    "  var ctx = $(canvas).get(0).getContext(\"2d\");\n",
    "     var dataset = {labels: labels,                     \n",
    "    datasets:[{\n",
    "     data: data,\n",
    "     backgroundColor: \"rgba(150,64,150,0.5)\",\n",
    "         fillColor: \"rgba(150,64,150,0.8)\",    \n",
    "  }]};\n",
    "  var myBarChart = new Chart(ctx,{type:'bar',data:dataset,options:{legend: {display:false},\n",
    "        scales: {\n",
    "            yAxes: [{\n",
    "                ticks: {\n",
    "                    min: 0,\n",
    "                }\n",
    "            }]}}});\n",
    "};\n",
    "\n",
    "$(\".jp-InputArea .o:contains(html)\").closest('.jp-InputArea').hide();\n",
    "\n",
    "\n",
    "</script>"
   ]
  },
  {
   "cell_type": "markdown",
   "metadata": {
    "slideshow": {
     "slide_type": "slide"
    }
   },
   "source": [
    "# Conditionals and Control Flow\n",
    "## if statements\n",
    "\n",
    " * An `if` statement conditionally executes a block of code\n",
    "  * The condition is some Boolean value\n",
    "  * A block of code is delineated by consistent indentation.\n",
    "  * Blank lines and comments will not end a block\n",
    "  * *Whitespace is significant - do not mix tabs and spaces*\n",
    " * In an `if..elif..else` statement, only one block of code will be executed \n"
   ]
  },
  {
   "cell_type": "code",
   "execution_count": 2,
   "metadata": {},
   "outputs": [
    {
     "name": "stdout",
     "output_type": "stream",
     "text": [
      "2\n"
     ]
    }
   ],
   "source": [
    "if False:\n",
    "    print(1)\n",
    "elif True:\n",
    "    print(2)\n",
    "else:\n",
    "    print(3)"
   ]
  },
  {
   "cell_type": "code",
   "execution_count": 3,
   "metadata": {
    "slideshow": {
     "slide_type": "slide"
    }
   },
   "outputs": [],
   "source": [
    "val = 0\n",
    "if val >= 0:\n",
    "    val += 1\n",
    "elif val < 1:\n",
    "    val += 2\n",
    "elif True:\n",
    "    val += 3\n",
    "else:\n",
    "    val += 5\n",
    "    \n",
    "    val += 7"
   ]
  },
  {
   "cell_type": "code",
   "execution_count": 4,
   "metadata": {},
   "outputs": [
    {
     "data": {
      "text/html": [
       "<div id=\"if1\" style=\"width: 500px\"></div>\n",
       "\n",
       "<script>\n",
       "$('head').append('<link rel=\"stylesheet\" href=\"https://bits.csb.pitt.edu/asker.js/themes/asker.default.css\" />');\n",
       "\n",
       "    var divid = '#if1';\n",
       "\tjQuery(divid).asker({\n",
       "\t    id: divid,\n",
       "\t    question: \"What is the value of val?\",\n",
       "\t\tanswers: [\"1\",\"4\",\"6\",\"8\",\"11\",\"16\"],\n",
       "        server: \"https://bits.csb.pitt.edu/asker.js/example/asker.cgi\",\n",
       "\t\tcharter: chartmaker})\n",
       "    \n",
       "$(\".jp-InputArea .o:contains(html)\").closest('.jp-InputArea').hide();\n",
       "\n",
       "\n",
       "</script>\n"
      ],
      "text/plain": [
       "<IPython.core.display.HTML object>"
      ]
     },
     "metadata": {},
     "output_type": "display_data"
    }
   ],
   "source": [
    "%%html\n",
    "<div id=\"if1\" style=\"width: 500px\"></div>\n",
    "\n",
    "<script>\n",
    "$('head').append('<link rel=\"stylesheet\" href=\"https://bits.csb.pitt.edu/asker.js/themes/asker.default.css\" />');\n",
    "\n",
    "    var divid = '#if1';\n",
    "\tjQuery(divid).asker({\n",
    "\t    id: divid,\n",
    "\t    question: \"What is the value of val?\",\n",
    "\t\tanswers: [\"1\",\"4\",\"6\",\"8\",\"11\",\"16\"],\n",
    "        server: \"https://bits.csb.pitt.edu/asker.js/example/asker.cgi\",\n",
    "\t\tcharter: chartmaker})\n",
    "    \n",
    "$(\".jp-InputArea .o:contains(html)\").closest('.jp-InputArea').hide();\n",
    "\n",
    "\n",
    "</script>"
   ]
  },
  {
   "cell_type": "markdown",
   "metadata": {
    "slideshow": {
     "slide_type": "slide"
    }
   },
   "source": [
    "# pass\n",
    "\n",
    "`pass` does nothing"
   ]
  },
  {
   "cell_type": "code",
   "execution_count": 5,
   "metadata": {},
   "outputs": [],
   "source": [
    "if True:\n",
    "    pass\n",
    "else:\n",
    "    print(\"I will never print\")"
   ]
  },
  {
   "cell_type": "markdown",
   "metadata": {
    "slideshow": {
     "slide_type": "slide"
    }
   },
   "source": [
    "# Logical Operators\n",
    "\n",
    "\n",
    " * `and`, `or`, and `not`\n",
    " * `not` has higher precedence than `and` which has higher precedence than `or`\n",
    "  * all three have lower precedence than comparison operators\n",
    "  * but use parentheses to avoid confusion"
   ]
  },
  {
   "cell_type": "code",
   "execution_count": 6,
   "metadata": {
    "slideshow": {
     "slide_type": "slide"
    }
   },
   "outputs": [
    {
     "data": {
      "text/html": [
       "\n",
       "<div id=\"logic1\" style=\"width: 600px\"></div>\n",
       "\n",
       "\n",
       "<script>\n",
       "\n",
       "\tjQuery(\"#logic1\").asker({\n",
       "\t    id: \"logic1\",\n",
       "\t    question: \"Which of the following is equivalent to <tt>not (x and y)</tt>\",\n",
       "\t\tanswers: [\"<tt>not x and not y</tt>\",\"<tt>not x and y</tt>\",\"<tt>x or y</tt>\",\"<tt>not x or not y</tt>\"],\n",
       "        server: \"https://bits.csb.pitt.edu/asker.js/example/asker.cgi\",\n",
       "\t\tcharter: chartmaker})\n",
       "    \n",
       "$(\".jp-InputArea .o:contains(html)\").closest('.jp-InputArea').hide();\n",
       "\n",
       "</script>\n"
      ],
      "text/plain": [
       "<IPython.core.display.HTML object>"
      ]
     },
     "metadata": {},
     "output_type": "display_data"
    }
   ],
   "source": [
    "%%html\n",
    "\n",
    "<div id=\"logic1\" style=\"width: 600px\"></div>\n",
    "\n",
    "\n",
    "<script>\n",
    "\n",
    "\tjQuery(\"#logic1\").asker({\n",
    "\t    id: \"logic1\",\n",
    "\t    question: \"Which of the following is equivalent to <tt>not (x and y)</tt>\",\n",
    "\t\tanswers: [\"<tt>not x and not y</tt>\",\"<tt>not x and y</tt>\",\"<tt>x or y</tt>\",\"<tt>not x or not y</tt>\"],\n",
    "        server: \"https://bits.csb.pitt.edu/asker.js/example/asker.cgi\",\n",
    "\t\tcharter: chartmaker})\n",
    "    \n",
    "$(\".jp-InputArea .o:contains(html)\").closest('.jp-InputArea').hide();\n",
    "\n",
    "</script>"
   ]
  },
  {
   "cell_type": "code",
   "execution_count": 7,
   "metadata": {
    "slideshow": {
     "slide_type": "slide"
    }
   },
   "outputs": [],
   "source": [
    "x = 3; y = 4; z = 5\n",
    "val = x != 3 or not y < 0 and z < 10 or not y == 0 and z < 0"
   ]
  },
  {
   "cell_type": "code",
   "execution_count": 8,
   "metadata": {
    "slideshow": {
     "slide_type": "-"
    }
   },
   "outputs": [
    {
     "data": {
      "text/html": [
       "\n",
       "<div id=\"cond1\" style=\"width: 500px\"></div>\n",
       "<script>\n",
       "\n",
       "    var divid = '#cond1';\n",
       "\tjQuery(divid).asker({\n",
       "\t    id: divid,\n",
       "\t    question: \"What is the value of val?\",\n",
       "\t\tanswers: [\"True\",\"False\"],\n",
       "        server: \"https://bits.csb.pitt.edu/asker.js/example/asker.cgi\",\n",
       "\t\tcharter: chartmaker})\n",
       "    \n",
       "$(\".jp-InputArea .o:contains(html)\").closest('.jp-InputArea').hide();\n",
       "\n",
       "</script>\n"
      ],
      "text/plain": [
       "<IPython.core.display.HTML object>"
      ]
     },
     "metadata": {},
     "output_type": "display_data"
    }
   ],
   "source": [
    "%%html\n",
    "\n",
    "<div id=\"cond1\" style=\"width: 500px\"></div>\n",
    "<script>\n",
    "\n",
    "    var divid = '#cond1';\n",
    "\tjQuery(divid).asker({\n",
    "\t    id: divid,\n",
    "\t    question: \"What is the value of val?\",\n",
    "\t\tanswers: [\"True\",\"False\"],\n",
    "        server: \"https://bits.csb.pitt.edu/asker.js/example/asker.cgi\",\n",
    "\t\tcharter: chartmaker})\n",
    "    \n",
    "$(\".jp-InputArea .o:contains(html)\").closest('.jp-InputArea').hide();\n",
    "\n",
    "</script>"
   ]
  },
  {
   "cell_type": "markdown",
   "metadata": {
    "slideshow": {
     "slide_type": "slide"
    }
   },
   "source": [
    "# Membership testing\n",
    "\n",
    "<tt>in</tt> and <tt>not in</tt> can be used to see if an object is in a collection"
   ]
  },
  {
   "cell_type": "code",
   "execution_count": 9,
   "metadata": {},
   "outputs": [],
   "source": [
    "l = [1,2,3]"
   ]
  },
  {
   "cell_type": "code",
   "execution_count": 10,
   "metadata": {},
   "outputs": [
    {
     "data": {
      "text/plain": [
       "True"
      ]
     },
     "execution_count": 10,
     "metadata": {},
     "output_type": "execute_result"
    }
   ],
   "source": [
    "1 in l"
   ]
  },
  {
   "cell_type": "code",
   "execution_count": 11,
   "metadata": {},
   "outputs": [
    {
     "data": {
      "text/plain": [
       "False"
      ]
     },
     "execution_count": 11,
     "metadata": {},
     "output_type": "execute_result"
    }
   ],
   "source": [
    "345 in l"
   ]
  },
  {
   "cell_type": "code",
   "execution_count": 12,
   "metadata": {},
   "outputs": [
    {
     "data": {
      "text/plain": [
       "True"
      ]
     },
     "execution_count": 12,
     "metadata": {},
     "output_type": "execute_result"
    }
   ],
   "source": [
    "\"1\" not in l"
   ]
  },
  {
   "cell_type": "code",
   "execution_count": 13,
   "metadata": {},
   "outputs": [
    {
     "data": {
      "text/plain": [
       "True"
      ]
     },
     "execution_count": 13,
     "metadata": {},
     "output_type": "execute_result"
    }
   ],
   "source": [
    "\"good\" in \"goodness\""
   ]
  },
  {
   "cell_type": "code",
   "execution_count": 14,
   "metadata": {
    "slideshow": {
     "slide_type": "slide"
    }
   },
   "outputs": [],
   "source": [
    "val = 'cat' in 'catalog'"
   ]
  },
  {
   "cell_type": "code",
   "execution_count": 15,
   "metadata": {
    "slideshow": {
     "slide_type": "-"
    }
   },
   "outputs": [
    {
     "data": {
      "text/html": [
       "\n",
       "<div id=\"catin\" style=\"width: 500px\"></div>\n",
       "<script>\n",
       "\n",
       "    var divid = '#catin';\n",
       "\tjQuery(divid).asker({\n",
       "\t    id: divid,\n",
       "\t    question: \"What is val?\",\n",
       "\t\tanswers: [\"True\",\"False\",\"None\"],\n",
       "        server: \"https://bits.csb.pitt.edu/asker.js/example/asker.cgi\",\n",
       "\t\tcharter: chartmaker})\n",
       "    \n",
       "$(\".jp-InputArea .o:contains(html)\").closest('.jp-InputArea').hide();\n",
       "\n",
       "</script>\n"
      ],
      "text/plain": [
       "<IPython.core.display.HTML object>"
      ]
     },
     "metadata": {},
     "output_type": "display_data"
    }
   ],
   "source": [
    "%%html\n",
    "\n",
    "<div id=\"catin\" style=\"width: 500px\"></div>\n",
    "<script>\n",
    "\n",
    "    var divid = '#catin';\n",
    "\tjQuery(divid).asker({\n",
    "\t    id: divid,\n",
    "\t    question: \"What is val?\",\n",
    "\t\tanswers: [\"True\",\"False\",\"None\"],\n",
    "        server: \"https://bits.csb.pitt.edu/asker.js/example/asker.cgi\",\n",
    "\t\tcharter: chartmaker})\n",
    "    \n",
    "$(\".jp-InputArea .o:contains(html)\").closest('.jp-InputArea').hide();\n",
    "\n",
    "</script>"
   ]
  },
  {
   "cell_type": "code",
   "execution_count": 16,
   "metadata": {
    "slideshow": {
     "slide_type": "slide"
    }
   },
   "outputs": [],
   "source": [
    "val = 'cat' in ['catalog','catastrophe']"
   ]
  },
  {
   "cell_type": "code",
   "execution_count": 51,
   "metadata": {},
   "outputs": [
    {
     "data": {
      "text/html": [
       "\n",
       "<div id=\"catin2\" style=\"width: 500px\"></div>\n",
       "<script>\n",
       "\n",
       "    var divid = '#catin2';\n",
       "\tjQuery(divid).asker({\n",
       "\t    id: divid,\n",
       "\t    question: \"What is val?\",\n",
       "\t\tanswers: [\"True\",\"False\",\"None\"],\n",
       "        server: \"https://bits.csb.pitt.edu/asker.js/example/asker.cgi\",\n",
       "\t\tcharter: chartmaker})\n",
       "    \n",
       "$(\".jp-InputArea .o:contains(html)\").closest('.jp-InputArea').hide();\n",
       "\n",
       "</script>\n"
      ],
      "text/plain": [
       "<IPython.core.display.HTML object>"
      ]
     },
     "metadata": {},
     "output_type": "display_data"
    }
   ],
   "source": [
    "%%html\n",
    "\n",
    "<div id=\"catin2\" style=\"width: 500px\"></div>\n",
    "<script>\n",
    "\n",
    "    var divid = '#catin2';\n",
    "\tjQuery(divid).asker({\n",
    "\t    id: divid,\n",
    "\t    question: \"What is val?\",\n",
    "\t\tanswers: [\"True\",\"False\",\"None\"],\n",
    "        server: \"https://bits.csb.pitt.edu/asker.js/example/asker.cgi\",\n",
    "\t\tcharter: chartmaker})\n",
    "    \n",
    "$(\".jp-InputArea .o:contains(html)\").closest('.jp-InputArea').hide();\n",
    "\n",
    "</script>"
   ]
  },
  {
   "cell_type": "markdown",
   "metadata": {
    "slideshow": {
     "slide_type": "slide"
    }
   },
   "source": [
    "# Loops"
   ]
  },
  {
   "cell_type": "code",
   "execution_count": 18,
   "metadata": {},
   "outputs": [
    {
     "name": "stdout",
     "output_type": "stream",
     "text": [
      "0\n",
      "1\n",
      "2\n"
     ]
    }
   ],
   "source": [
    "i = 0\n",
    "while i < 3: #as long as this condition is true...\n",
    "    print(i) #...execute this block of code\n",
    "    i += 1   "
   ]
  },
  {
   "cell_type": "code",
   "execution_count": 19,
   "metadata": {},
   "outputs": [
    {
     "name": "stdout",
     "output_type": "stream",
     "text": [
      "a\n",
      "b\n",
      "c\n",
      "d\n",
      "e\n",
      "f\n",
      "g\n"
     ]
    }
   ],
   "source": [
    "letters = ['a','b','c','d','e','f','g']\n",
    "for i in letters: #for every item in this collection...\n",
    "    print(i) #...execute this block of code with i set to the object"
   ]
  },
  {
   "cell_type": "markdown",
   "metadata": {
    "slideshow": {
     "slide_type": "slide"
    }
   },
   "source": [
    "# range\n",
    "\n",
    "The preferred method of looping is to use a <tt>for</tt> loop.  There are a number of builtin functions to help create collections to iterate over."
   ]
  },
  {
   "cell_type": "code",
   "execution_count": 20,
   "metadata": {},
   "outputs": [
    {
     "data": {
      "text/plain": [
       "[0, 1, 2]"
      ]
     },
     "execution_count": 20,
     "metadata": {},
     "output_type": "execute_result"
    }
   ],
   "source": [
    "list(range(3))"
   ]
  },
  {
   "cell_type": "code",
   "execution_count": 21,
   "metadata": {},
   "outputs": [
    {
     "data": {
      "text/plain": [
       "[1, 2, 3, 4, 5, 6, 7, 8, 9]"
      ]
     },
     "execution_count": 21,
     "metadata": {},
     "output_type": "execute_result"
    }
   ],
   "source": [
    "list(range(1,10))"
   ]
  },
  {
   "cell_type": "code",
   "execution_count": 22,
   "metadata": {},
   "outputs": [
    {
     "data": {
      "text/plain": [
       "[1, 4, 7]"
      ]
     },
     "execution_count": 22,
     "metadata": {},
     "output_type": "execute_result"
    }
   ],
   "source": [
    "list(range(1,10,3))"
   ]
  },
  {
   "cell_type": "code",
   "execution_count": 23,
   "metadata": {
    "slideshow": {
     "slide_type": "slide"
    }
   },
   "outputs": [],
   "source": [
    "val = 0\n",
    "for i in range(100):\n",
    "    val += i"
   ]
  },
  {
   "cell_type": "code",
   "execution_count": 24,
   "metadata": {
    "slideshow": {
     "slide_type": "-"
    }
   },
   "outputs": [
    {
     "data": {
      "text/html": [
       "\n",
       "<div id=\"summer\" style=\"width: 500px\"></div>\n",
       "<script>\n",
       "\n",
       "    var divid = '#summer';\n",
       "\tjQuery(divid).asker({\n",
       "\t    id: divid,\n",
       "\t    question: \"What is the value of val?\",\n",
       "\t\tanswers: [\"0\",\"99\",\"100\",\"101\",\"4950\",\"5050\"],\n",
       "        server: \"https://bits.csb.pitt.edu/asker.js/example/asker.cgi\",\n",
       "\t\tcharter: chartmaker})\n",
       "    \n",
       "$(\".jp-InputArea .o:contains(html)\").closest('.jp-InputArea').hide();\n",
       "\n",
       "</script>\n"
      ],
      "text/plain": [
       "<IPython.core.display.HTML object>"
      ]
     },
     "metadata": {},
     "output_type": "display_data"
    }
   ],
   "source": [
    "%%html\n",
    "\n",
    "<div id=\"summer\" style=\"width: 500px\"></div>\n",
    "<script>\n",
    "\n",
    "    var divid = '#summer';\n",
    "\tjQuery(divid).asker({\n",
    "\t    id: divid,\n",
    "\t    question: \"What is the value of val?\",\n",
    "\t\tanswers: [\"0\",\"99\",\"100\",\"101\",\"4950\",\"5050\"],\n",
    "        server: \"https://bits.csb.pitt.edu/asker.js/example/asker.cgi\",\n",
    "\t\tcharter: chartmaker})\n",
    "    \n",
    "$(\".jp-InputArea .o:contains(html)\").closest('.jp-InputArea').hide();\n",
    "\n",
    "</script>"
   ]
  },
  {
   "cell_type": "markdown",
   "metadata": {
    "slideshow": {
     "slide_type": "slide"
    }
   },
   "source": [
    "# Iterable\n",
    "\n",
    "<tt>for</tt> will loop over any _iterable_ object\n",
    "\n",
    "In addition to collections, this includes any object that can provide items one at a time\n",
    " * Most importantly files"
   ]
  },
  {
   "cell_type": "code",
   "execution_count": 25,
   "metadata": {},
   "outputs": [
    {
     "data": {
      "text/plain": [
       "6258"
      ]
     },
     "execution_count": 25,
     "metadata": {},
     "output_type": "execute_result"
    }
   ],
   "source": [
    "f = open(\"../files/brca1.fasta\")\n",
    "cnt = 0\n",
    "for line in f.readlines():\n",
    "    cnt += len(line)\n",
    "cnt"
   ]
  },
  {
   "cell_type": "code",
   "execution_count": 26,
   "metadata": {},
   "outputs": [
    {
     "data": {
      "text/plain": [
       "6258"
      ]
     },
     "execution_count": 26,
     "metadata": {},
     "output_type": "execute_result"
    }
   ],
   "source": [
    "f = open(\"../files/brca1.fasta\")\n",
    "cnt = 0\n",
    "for line in f:  \n",
    "    cnt += len(line)\n",
    "cnt"
   ]
  },
  {
   "cell_type": "markdown",
   "metadata": {
    "slideshow": {
     "slide_type": "slide"
    }
   },
   "source": [
    "# break and continue\n",
    "\n",
    "<tt>break</tt> will exit out of the entire loop while <tt>continue</tt> will skip to the next iteration"
   ]
  },
  {
   "cell_type": "code",
   "execution_count": 27,
   "metadata": {},
   "outputs": [
    {
     "name": "stdout",
     "output_type": "stream",
     "text": [
      "6\n"
     ]
    }
   ],
   "source": [
    "i = 0\n",
    "while True:\n",
    "    i += 1\n",
    "    if i < 6:\n",
    "        continue\n",
    "    print(i)\n",
    "    if i > 4:\n",
    "        break"
   ]
  },
  {
   "cell_type": "code",
   "execution_count": 28,
   "metadata": {
    "slideshow": {
     "slide_type": "slide"
    }
   },
   "outputs": [],
   "source": [
    "x = 0\n",
    "while x < 100:\n",
    "    if x < 50:\n",
    "        pass\n",
    "    elif x == 5:\n",
    "        break\n",
    "    x += 1"
   ]
  },
  {
   "cell_type": "code",
   "execution_count": 29,
   "metadata": {},
   "outputs": [
    {
     "data": {
      "text/html": [
       "\n",
       "<div id=\"breakq\" style=\"width: 500px\"></div>\n",
       "<script>\n",
       "\n",
       "    var divid = '#breakq';\n",
       "\tjQuery(divid).asker({\n",
       "\t    id: divid,\n",
       "\t    question: \"What is the value of x?\",\n",
       "\t\tanswers: [\"5\",\"50\",\"100\",\"101\",\"Nothing\"],\n",
       "        server: \"https://bits.csb.pitt.edu/asker.js/example/asker.cgi\",\n",
       "\t\tcharter: chartmaker})\n",
       "    \n",
       "$(\".jp-InputArea .o:contains(html)\").closest('.jp-InputArea').hide();\n",
       "\n",
       "</script>\n"
      ],
      "text/plain": [
       "<IPython.core.display.HTML object>"
      ]
     },
     "metadata": {},
     "output_type": "display_data"
    }
   ],
   "source": [
    "%%html\n",
    "\n",
    "<div id=\"breakq\" style=\"width: 500px\"></div>\n",
    "<script>\n",
    "\n",
    "    var divid = '#breakq';\n",
    "\tjQuery(divid).asker({\n",
    "\t    id: divid,\n",
    "\t    question: \"What is the value of x?\",\n",
    "\t\tanswers: [\"5\",\"50\",\"100\",\"101\",\"Nothing\"],\n",
    "        server: \"https://bits.csb.pitt.edu/asker.js/example/asker.cgi\",\n",
    "\t\tcharter: chartmaker})\n",
    "    \n",
    "$(\".jp-InputArea .o:contains(html)\").closest('.jp-InputArea').hide();\n",
    "\n",
    "</script>"
   ]
  },
  {
   "cell_type": "markdown",
   "metadata": {
    "slideshow": {
     "slide_type": "slide"
    }
   },
   "source": [
    "# Slicing\n",
    "\n",
    "What if you don't want to iterate over the full list?"
   ]
  },
  {
   "cell_type": "code",
   "execution_count": 30,
   "metadata": {},
   "outputs": [
    {
     "data": {
      "text/plain": [
       "'He'"
      ]
     },
     "execution_count": 30,
     "metadata": {},
     "output_type": "execute_result"
    }
   ],
   "source": [
    "s = \"Hello\"\n",
    "s[0:2]"
   ]
  },
  {
   "cell_type": "code",
   "execution_count": 31,
   "metadata": {},
   "outputs": [
    {
     "data": {
      "text/plain": [
       "'llo'"
      ]
     },
     "execution_count": 31,
     "metadata": {},
     "output_type": "execute_result"
    }
   ],
   "source": [
    "s[2:] # empty indices indicate remainder of string/list"
   ]
  },
  {
   "cell_type": "code",
   "execution_count": 32,
   "metadata": {},
   "outputs": [
    {
     "data": {
      "text/plain": [
       "'Hel'"
      ]
     },
     "execution_count": 32,
     "metadata": {},
     "output_type": "execute_result"
    }
   ],
   "source": [
    "s[:-2] #negative indices count from the back"
   ]
  },
  {
   "cell_type": "code",
   "execution_count": 33,
   "metadata": {},
   "outputs": [
    {
     "data": {
      "text/plain": [
       "'Hello, wor'"
      ]
     },
     "execution_count": 33,
     "metadata": {},
     "output_type": "execute_result"
    }
   ],
   "source": [
    "s2 = \"Hello, world\"\n",
    "s2[:-2]"
   ]
  },
  {
   "cell_type": "code",
   "execution_count": 34,
   "metadata": {
    "slideshow": {
     "slide_type": "slide"
    }
   },
   "outputs": [],
   "source": [
    "l = [\"cat\",\"dog\",\"fish\",\"mouse\"]\n",
    "val = len(l[2:3])"
   ]
  },
  {
   "cell_type": "code",
   "execution_count": 35,
   "metadata": {},
   "outputs": [
    {
     "data": {
      "text/html": [
       "\n",
       "<div id=\"slicer\" style=\"width: 500px\"></div>\n",
       "<script>\n",
       "\n",
       "    var divid = '#slicer';\n",
       "\tjQuery(divid).asker({\n",
       "\t    id: divid,\n",
       "\t    question: \"What is the value of val?\",\n",
       "\t\tanswers: [\"0\",\"1\",\"2\",\"3\",\"4\",\"5\"],\n",
       "        server: \"https://bits.csb.pitt.edu/asker.js/example/asker.cgi\",\n",
       "\t\tcharter: chartmaker})\n",
       "    \n",
       "$(\".jp-InputArea .o:contains(html)\").closest('.jp-InputArea').hide();\n",
       "\n",
       "</script>\n"
      ],
      "text/plain": [
       "<IPython.core.display.HTML object>"
      ]
     },
     "metadata": {},
     "output_type": "display_data"
    }
   ],
   "source": [
    "%%html\n",
    "\n",
    "<div id=\"slicer\" style=\"width: 500px\"></div>\n",
    "<script>\n",
    "\n",
    "    var divid = '#slicer';\n",
    "\tjQuery(divid).asker({\n",
    "\t    id: divid,\n",
    "\t    question: \"What is the value of val?\",\n",
    "\t\tanswers: [\"0\",\"1\",\"2\",\"3\",\"4\",\"5\"],\n",
    "        server: \"https://bits.csb.pitt.edu/asker.js/example/asker.cgi\",\n",
    "\t\tcharter: chartmaker})\n",
    "    \n",
    "$(\".jp-InputArea .o:contains(html)\").closest('.jp-InputArea').hide();\n",
    "\n",
    "</script>"
   ]
  },
  {
   "cell_type": "markdown",
   "metadata": {
    "slideshow": {
     "slide_type": "slide"
    }
   },
   "source": [
    "# matplotlib\n",
    "## make easy things easy and hard things possible"
   ]
  },
  {
   "cell_type": "code",
   "execution_count": 36,
   "metadata": {
    "slideshow": {
     "slide_type": "slide"
    }
   },
   "outputs": [],
   "source": [
    "import matplotlib.pyplot as plt\n",
    "# next is a python notebook command to embed plot output in the notebook\n",
    "%matplotlib inline "
   ]
  },
  {
   "cell_type": "markdown",
   "metadata": {},
   "source": [
    "<tt>plt</tt> has hundreds of functions for creating and manipulating plots\n",
    "\n",
    "<tt>plt.plot</tt> creates line/point graphs\n",
    " * you can specify an arbitrary number of x,y,format arguments"
   ]
  },
  {
   "cell_type": "code",
   "execution_count": 37,
   "metadata": {
    "slideshow": {
     "slide_type": "slide"
    }
   },
   "outputs": [
    {
     "data": {
      "image/png": "[encoded data removed]",
      "text/plain": [
       "<Figure size 432x288 with 1 Axes>"
      ]
     },
     "metadata": {
      "needs_background": "light"
     },
     "output_type": "display_data"
    }
   ],
   "source": [
    "plt.plot([0,1,2,3],[0,1,2,3],\"-b\",[0,1,2,3],[0,1,4,9],\"--r\")\n",
    "plt.ylabel(\"Y\")\n",
    "plt.xlabel(\"X\")\n",
    "plt.show() #not actually necessary in notebook"
   ]
  },
  {
   "cell_type": "markdown",
   "metadata": {
    "slideshow": {
     "slide_type": "slide"
    }
   },
   "source": [
    "# matplotlib is _stateful_\n"
   ]
  },
  {
   "cell_type": "code",
   "execution_count": 38,
   "metadata": {},
   "outputs": [
    {
     "data": {
      "image/png": "[encoded data removed]",
      "text/plain": [
       "<Figure size 432x288 with 1 Axes>"
      ]
     },
     "metadata": {
      "needs_background": "light"
     },
     "output_type": "display_data"
    }
   ],
   "source": [
    "plt.plot([1,2,4,9,16],label=\"one\") #if only one data set is provide, assume uniform x\n",
    "plt.plot([0.5,1,2,4.5,8],'^-.',label=\"two\") #keep adding to current graph until show is called\n",
    "plt.legend() #uses labels\n",
    "plt.show()"
   ]
  },
  {
   "cell_type": "code",
   "execution_count": 39,
   "metadata": {
    "slideshow": {
     "slide_type": "-"
    }
   },
   "outputs": [],
   "source": [
    "plt.show() # this doesn't show anything since we haven't created another plot\n",
    "plt.close() #another way to finish with a plot"
   ]
  },
  {
   "cell_type": "markdown",
   "metadata": {},
   "source": [
    "If you use the <tt>%matplotlib</tt> command in ipython, the plot will be updated with every command (can skip <tt>show</tt>)"
   ]
  },
  {
   "cell_type": "markdown",
   "metadata": {
    "slideshow": {
     "slide_type": "slide"
    }
   },
   "source": [
    "# Format codes\n",
    "```\n",
    "marker\tdescription\n",
    "”.”\tpoint\n",
    "”,”\tpixel\n",
    "“o”\tcircle\n",
    "“v”\ttriangle_down\n",
    "“^”\ttriangle_up\n",
    "“<”\ttriangle_left\n",
    "“>”\ttriangle_right\n",
    "“1”\ttri_down\n",
    "“2”\ttri_up\n",
    "“3”\ttri_left\n",
    "“4”\ttri_right\n",
    "“8”\toctagon\n",
    "“s”\tsquare\n",
    "“p”\tpentagon\n",
    "“*”\tstar\n",
    "“h”\thexagon1\n",
    "“H”\thexagon2\n",
    "“+”\tplus\n",
    "“x”\tx\n",
    "“D”\tdiamond\n",
    "“d”\tthin_diamond\n",
    "“|”\tvline\n",
    "“_”\thline\n",
    "```"
   ]
  },
  {
   "cell_type": "markdown",
   "metadata": {
    "slideshow": {
     "slide_type": "slide"
    }
   },
   "source": [
    "# Colors\n",
    "\n",
    "```\n",
    "    'b'         blue\n",
    "    'g'         green\n",
    "    'r'         red\n",
    "    'c'         cyan\n",
    "    'm'         magenta\n",
    "    'y'         yellow\n",
    "    'k'         black\n",
    "    'w'         white\n",
    "```\n",
    "Can also specify colors with full names or hexadecimal"
   ]
  },
  {
   "cell_type": "code",
   "execution_count": 40,
   "metadata": {
    "slideshow": {
     "slide_type": "slide"
    }
   },
   "outputs": [
    {
     "data": {
      "image/png": "[encoded data removed]",
      "text/plain": [
       "<Figure size 432x288 with 1 Axes>"
      ]
     },
     "metadata": {
      "needs_background": "light"
     },
     "output_type": "display_data"
    }
   ],
   "source": [
    "plt.plot([1,2,4,6,7,4,2,2],'orange',linewidth=6)\n",
    "plt.show()"
   ]
  },
  {
   "cell_type": "markdown",
   "metadata": {
    "slideshow": {
     "slide_type": "slide"
    }
   },
   "source": [
    "# Plotting expression data"
   ]
  },
  {
   "cell_type": "code",
   "execution_count": 41,
   "metadata": {},
   "outputs": [
    {
     "data": {
      "text/plain": [
       "4381"
      ]
     },
     "execution_count": 41,
     "metadata": {},
     "output_type": "execute_result"
    }
   ],
   "source": [
    "f = open('../files/Spellman.txt')\n",
    "header = f.readline().rstrip().split(',')#rstrip removes newline\n",
    "data = []\n",
    "for line in f:\n",
    "    data.append(line.rstrip().split(','))\n",
    "len(data)"
   ]
  },
  {
   "cell_type": "code",
   "execution_count": 42,
   "metadata": {
    "slideshow": {
     "slide_type": "slide"
    }
   },
   "outputs": [
    {
     "data": {
      "image/png": "[encoded data removed]",
      "text/plain": [
       "<Figure size 432x288 with 1 Axes>"
      ]
     },
     "metadata": {
      "needs_background": "light"
     },
     "output_type": "display_data"
    }
   ],
   "source": [
    "for row in data[:10]: #first 10 only\n",
    "    values = list(map(float, row[1:]))\n",
    "    times = list(map(int, header[1:]))\n",
    "    plt.plot(times,values,label=row[0])\n",
    "plt.legend(loc='upper center',ncol=5,prop={'size':7})\n",
    "plt.xlabel(\"Time\");"
   ]
  },
  {
   "cell_type": "markdown",
   "metadata": {
    "slideshow": {
     "slide_type": "slide"
    }
   },
   "source": [
    "Data conversion..."
   ]
  },
  {
   "cell_type": "code",
   "execution_count": 43,
   "metadata": {},
   "outputs": [],
   "source": [
    "for i in range(1,len(header)):\n",
    "    header[i] = int(header[i])\n",
    "    for r in range(len(data)):\n",
    "        data[r][i] = float(data[r][i])"
   ]
  },
  {
   "cell_type": "markdown",
   "metadata": {
    "slideshow": {
     "slide_type": "slide"
    }
   },
   "source": [
    "# Bar charts"
   ]
  },
  {
   "cell_type": "code",
   "execution_count": 44,
   "metadata": {},
   "outputs": [
    {
     "data": {
      "image/png": "[encoded data removed]",
      "text/plain": [
       "<Figure size 432x288 with 1 Axes>"
      ]
     },
     "metadata": {
      "needs_background": "light"
     },
     "output_type": "display_data"
    }
   ],
   "source": [
    "plt.bar([1.1,2.1,3.1],[30,40,50],0.5,yerr=[2,10,12],ecolor=\"black\",alpha=0.5,label=\"One\")\n",
    "plt.bar([1.4,2.4,3.4],[60,50,20],0.5,color='r',yerr=[10,4,1],ecolor=\"black\",alpha=0.5,label=\"Two\")\n",
    "plt.xticks([1.4,2.4,3.4], ['A','B','C'])\n",
    "plt.ylim([0,100])\n",
    "plt.legend();"
   ]
  },
  {
   "cell_type": "markdown",
   "metadata": {
    "slideshow": {
     "slide_type": "slide"
    }
   },
   "source": [
    "# Histograms"
   ]
  },
  {
   "cell_type": "code",
   "execution_count": 45,
   "metadata": {},
   "outputs": [
    {
     "data": {
      "image/png": "[encoded data removed]",
      "text/plain": [
       "<Figure size 432x288 with 1 Axes>"
      ]
     },
     "metadata": {
      "needs_background": "light"
     },
     "output_type": "display_data"
    }
   ],
   "source": [
    "import random\n",
    "rdata = []\n",
    "for i in range(1000):\n",
    "    rdata.append(random.normalvariate(0,1))\n",
    "    \n",
    "plt.hist(rdata,10);"
   ]
  },
  {
   "cell_type": "markdown",
   "metadata": {
    "slideshow": {
     "slide_type": "slide"
    }
   },
   "source": [
    "# Combining chart types\n",
    "\n",
    "Just accumulate plots"
   ]
  },
  {
   "cell_type": "code",
   "execution_count": 46,
   "metadata": {},
   "outputs": [
    {
     "data": {
      "image/png": "[encoded data removed]",
      "text/plain": [
       "<Figure size 432x288 with 1 Axes>"
      ]
     },
     "metadata": {
      "needs_background": "light"
     },
     "output_type": "display_data"
    }
   ],
   "source": [
    "plt.hist(rdata,10)\n",
    "plt.plot([-3,-1,0,1,2,3],[20,30,50,60,80,90],'-r',linewidth=3)\n",
    "plt.show()"
   ]
  },
  {
   "cell_type": "markdown",
   "metadata": {
    "slideshow": {
     "slide_type": "slide"
    }
   },
   "source": [
    "# Terminology\n",
    "\n",
    "### Figure\n",
    "\n",
    "The full canvas you are creating your plot(s) on.\n",
    "\n",
    "### Axes\n",
    "\n",
    "A single plot\n",
    "\n",
    "<img src=\"https://files.realpython.com/media/fig_map.bc8c7cabd823.png\">"
   ]
  },
  {
   "cell_type": "markdown",
   "metadata": {
    "slideshow": {
     "slide_type": "slide"
    }
   },
   "source": [
    "# Multiple Plots on a Figure\n",
    "\n",
    "[subplots(nrows,ncols)](https://matplotlib.org/api/_as_gen/matplotlib.pyplot.subplots.html)\n",
    "\n"
   ]
  },
  {
   "cell_type": "code",
   "execution_count": 47,
   "metadata": {},
   "outputs": [
    {
     "data": {
      "image/png": "[encoded data removed]",
      "text/plain": [
       "<Figure size 432x288 with 2 Axes>"
      ]
     },
     "metadata": {
      "needs_background": "light"
     },
     "output_type": "display_data"
    }
   ],
   "source": [
    "fig, axes = plt.subplots(2,1)\n",
    "plt.sca(axes[0]) #set current axis to first\n",
    "plt.plot(header[1:],data[0][1:])\n",
    "plt.ylabel(data[0][0])\n",
    "\n",
    "plt.sca(axes[1])\n",
    "plt.plot(header[1:],data[1][1:],'g')\n",
    "plt.ylabel(data[1][0])\n",
    "plt.show()"
   ]
  },
  {
   "cell_type": "markdown",
   "metadata": {},
   "source": [
    "See also <a href=\"http://matplotlib.org/users/gridspec.html\">GridSpec</a>"
   ]
  },
  {
   "cell_type": "markdown",
   "metadata": {
    "slideshow": {
     "slide_type": "slide"
    }
   },
   "source": [
    "# Multiple Plots on a Figure"
   ]
  },
  {
   "cell_type": "code",
   "execution_count": 48,
   "metadata": {},
   "outputs": [
    {
     "data": {
      "image/png": "[encoded data removed]",
      "text/plain": [
       "<Figure size 432x288 with 3 Axes>"
      ]
     },
     "metadata": {
      "needs_background": "light"
     },
     "output_type": "display_data"
    }
   ],
   "source": [
    "numgenes = 3\n",
    "fig, axes = plt.subplots(numgenes,1,sharex=True,sharey=True)\n",
    "colors = ['b','g','purple']\n",
    "for i in range(numgenes):\n",
    "    #most plot methods have equivalents on axes objects\n",
    "    axes[i].plot(header[1:],data[i][1:],color=colors[i])\n",
    "    axes[i].set_ylabel(data[i][0])"
   ]
  },
  {
   "cell_type": "markdown",
   "metadata": {
    "slideshow": {
     "slide_type": "slide"
    }
   },
   "source": [
    "# Exporting charts\n",
    "\n",
    "Instead of <tt>plt.show</tt> use <tt>plt.savefig</tt>\n",
    "\n",
    "`bbox_inches='tight'` tells matplotlib to try harder to fit everything nicely."
   ]
  },
  {
   "cell_type": "code",
   "execution_count": 49,
   "metadata": {},
   "outputs": [
    {
     "data": {
      "image/png": "[encoded data removed]",
      "text/plain": [
       "<Figure size 432x288 with 1 Axes>"
      ]
     },
     "metadata": {},
     "output_type": "display_data"
    }
   ],
   "source": [
    "plt.axes(aspect=1)\n",
    "plt.pie([8,2,1],labels=[\"Novice\",\"Beginner\",\"Proficient\"])\n",
    "plt.savefig(\"pie.png\",bbox_inches='tight')"
   ]
  },
  {
   "cell_type": "code",
   "execution_count": 50,
   "metadata": {},
   "outputs": [
    {
     "name": "stdout",
     "output_type": "stream",
     "text": [
      "pie.png\r\n"
     ]
    }
   ],
   "source": [
    "ls *png"
   ]
  },
  {
   "cell_type": "markdown",
   "metadata": {},
   "source": [
    "Other formats: pdf, svg, eps..."
   ]
  },
  {
   "cell_type": "markdown",
   "metadata": {
    "slideshow": {
     "slide_type": "slide"
    }
   },
   "source": [
    "# Other chart types\n",
    "\n",
    "<a href=\"http://matplotlib.org/gallery.html\">Gallery</a>"
   ]
  },
  {
   "cell_type": "markdown",
   "metadata": {
    "slideshow": {
     "slide_type": "slide"
    }
   },
   "source": [
    "# Seaborn\n",
    "\n",
    "Making (some) hard things easy\n",
    "\n",
    "[Gallery](https://seaborn.pydata.org/examples/index.html)"
   ]
  },
  {
   "cell_type": "markdown",
   "metadata": {
    "slideshow": {
     "slide_type": "slide"
    }
   },
   "source": [
    "# Project\n",
    "\n",
    "https://MSCBIO2025.github.io/files/Spellman.csv\n",
    "\n",
    "* plot a gene\n",
    "* plot the histogram of initial expression levels\n",
    "* plot the histogram of final expression levels\n",
    "* plot the above histograms on the same plot with transparent fill\n",
    "* plot the above with identical bin sizes for both histograms\n",
    "* plot the above histograms on different subplots, vertically stacked"
   ]
  }
 ],
 "metadata": {
  "celltoolbar": "Slideshow",
  "kernelspec": {
   "display_name": "Python 3 (ipykernel)",
   "language": "python",
   "name": "python3"
  },
  "language_info": {
   "codemirror_mode": {
    "name": "ipython",
    "version": 3
   },
   "file_extension": ".py",
   "mimetype": "text/x-python",
   "name": "python",
   "nbconvert_exporter": "python",
   "pygments_lexer": "ipython3",
   "version": "3.9.6"
  }
 },
 "nbformat": 4,
 "nbformat_minor": 4
}
